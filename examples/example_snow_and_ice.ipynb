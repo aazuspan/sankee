{
 "cells": [
  {
   "cell_type": "markdown",
   "id": "outside-vertical",
   "metadata": {},
   "source": [
    "# Loss of Permanent Snow and Ice\n",
    "In this example, we'll use `sankee` to visualize the conversion from snow and ice to barren and grassland on Baranof Island in Sitka, Alaska, as identified by a time series of MODIS Land Cover imagery between 2001 and 2019. The `geemap` package will allow us to interactively explore the imagery."
   ]
  },
  {
   "cell_type": "markdown",
   "id": "becoming-arrow",
   "metadata": {},
   "source": [
    "## Setup"
   ]
  },
  {
   "cell_type": "code",
   "execution_count": null,
   "id": "considered-desert",
   "metadata": {
    "ExecuteTime": {
     "end_time": "2021-04-21T00:21:40.979498Z",
     "start_time": "2021-04-21T00:21:28.091809Z"
    }
   },
   "outputs": [],
   "source": [
    "import sankee\n",
    "import ee\n",
    "import geemap\n",
    "\n",
    "ee.Authenticate()\n",
    "ee.Initialize()"
   ]
  },
  {
   "cell_type": "code",
   "execution_count": null,
   "id": "atomic-crazy",
   "metadata": {
    "ExecuteTime": {
     "end_time": "2021-04-21T00:21:42.221428Z",
     "start_time": "2021-04-21T00:21:41.988446Z"
    },
    "scrolled": false
   },
   "outputs": [],
   "source": [
    "# Create and display the map\n",
    "Map = geemap.Map()\n",
    "Map"
   ]
  },
  {
   "cell_type": "markdown",
   "id": "similar-hawaii",
   "metadata": {},
   "source": [
    "## Classified Time Series\n",
    "\n",
    "`sankee` plots are based on changes sampled from time series of classified imagery. To start, we'll load and explore some classified images from MODIS Land Cover."
   ]
  },
  {
   "cell_type": "markdown",
   "id": "abandoned-rhythm",
   "metadata": {},
   "source": [
    "### Select the Time Series Images"
   ]
  },
  {
   "cell_type": "code",
   "execution_count": null,
   "id": "fourth-rebound",
   "metadata": {
    "ExecuteTime": {
     "end_time": "2021-04-21T00:21:45.797969Z",
     "start_time": "2021-04-21T00:21:45.784004Z"
    }
   },
   "outputs": [],
   "source": [
    "# Select a pre-made dataset\n",
    "dataset = sankee.datasets.MODIS_LC_TYPE1\n",
    "\n",
    "# Select images that belong to the dataset. You can run dataset.get_images() to preview a list of image IDs. \n",
    "start = ee.Image('MODIS/006/MCD12Q1/2001_01_01')\n",
    "mid = ee.Image('MODIS/006/MCD12Q1/2010_01_01')\n",
    "end = ee.Image('MODIS/006/MCD12Q1/2019_01_01')\n",
    "\n",
    "# Collect the images into a list in chronological order\n",
    "image_list = [start, mid, end]"
   ]
  },
  {
   "cell_type": "markdown",
   "id": "advised-iraqi",
   "metadata": {},
   "source": [
    "### Show the Images\n",
    "\n",
    "Visualizing classified imagery can help to identify areas that experienced land cover change. We'll add them to the map so that we can interactively explore them.\n",
    "\n",
    "In this example, we use properties of the dataset to set the visualization parameters of the images. This is possible for MODIS because the class IDs are sequential, but won't work with all datasets."
   ]
  },
  {
   "cell_type": "code",
   "execution_count": null,
   "id": "caroline-exemption",
   "metadata": {
    "ExecuteTime": {
     "end_time": "2021-04-21T00:21:48.159229Z",
     "start_time": "2021-04-21T00:21:47.210860Z"
    }
   },
   "outputs": [],
   "source": [
    "# Set the visualization parameters\n",
    "min_val = min(dataset.keys)\n",
    "max_val = max(dataset.keys)\n",
    "palette = list(dataset.palette.values())\n",
    "\n",
    "# Add the images to the map\n",
    "Map.addLayer(start.select(dataset.band), {\"min\": min_val, \"max\": max_val, \"palette\": palette}, \"2001\")\n",
    "Map.addLayer(mid.select(dataset.band), {\"min\": min_val, \"max\": max_val, \"palette\": palette}, \"2010\")\n",
    "Map.addLayer(end.select(dataset.band), {\"min\": min_val, \"max\": max_val, \"palette\": palette}, \"2019\")"
   ]
  },
  {
   "cell_type": "markdown",
   "id": "southeast-financing",
   "metadata": {},
   "source": [
    "## Area of Interest\n",
    "`sankee` plots are sampled within one area of interest to visualize changes in that area. By exploring the imagery we added above and toggling between the imagery dates, we can find areas that experienced change. Below, we'll zoom in on Baranof Island where substantial loss of snow and ice is visible over the time series."
   ]
  },
  {
   "cell_type": "markdown",
   "id": "capable-plastic",
   "metadata": {},
   "source": [
    "### Interactively\n",
    "The area of interest can be defined interactively using the `geemap` drawing tools. You can experiment by drawing a polygon on the map and running the code below to set the last drawn feature as the area of interest."
   ]
  },
  {
   "cell_type": "code",
   "execution_count": null,
   "id": "complicated-continuity",
   "metadata": {},
   "outputs": [],
   "source": [
    "# aoi = Map.draw_last_feature.geometry()"
   ]
  },
  {
   "cell_type": "markdown",
   "id": "treated-singer",
   "metadata": {},
   "source": [
    "### Manually\n",
    "For repeatability, we'll manually define our area of interest."
   ]
  },
  {
   "cell_type": "code",
   "execution_count": null,
   "id": "advisory-animal",
   "metadata": {
    "ExecuteTime": {
     "end_time": "2021-04-21T00:21:49.750803Z",
     "start_time": "2021-04-21T00:21:49.739244Z"
    }
   },
   "outputs": [],
   "source": [
    "aoi = ee.Geometry.Polygon([\n",
    "    [-135.197519, 56.888425],\n",
    "    [-134.774492, 56.888425],\n",
    "    [-134.774492, 57.240839],\n",
    "    [-135.197519, 57.240839],\n",
    "])"
   ]
  },
  {
   "cell_type": "markdown",
   "id": "waiting-marathon",
   "metadata": {},
   "source": [
    "### Show the Area of Interest"
   ]
  },
  {
   "cell_type": "code",
   "execution_count": null,
   "id": "distinct-drawing",
   "metadata": {
    "ExecuteTime": {
     "end_time": "2021-04-21T00:21:51.013485Z",
     "start_time": "2021-04-21T00:21:50.641573Z"
    }
   },
   "outputs": [],
   "source": [
    "Map.addLayer(aoi, {\"opacity\": 0.2}, \"AOI\")\n",
    "Map.centerObject(aoi, zoom=9)"
   ]
  },
  {
   "cell_type": "markdown",
   "id": "closed-medicine",
   "metadata": {},
   "source": [
    "## Sankey Plot\n",
    "\n",
    "Now that we have a classified time series and an area of interest, we can generate a plot that shows how land cover changed over time."
   ]
  },
  {
   "cell_type": "markdown",
   "id": "under-listening",
   "metadata": {},
   "source": [
    "### Generating the Default Plot"
   ]
  },
  {
   "cell_type": "code",
   "execution_count": null,
   "id": "documented-seeking",
   "metadata": {
    "ExecuteTime": {
     "end_time": "2021-04-21T00:21:52.907945Z",
     "start_time": "2021-04-21T00:21:52.282928Z"
    }
   },
   "outputs": [],
   "source": [
    "# Generate and display the plot.\n",
    "plot = sankee.sankify(image_list, aoi, dataset=dataset)\n",
    "plot"
   ]
  },
  {
   "cell_type": "markdown",
   "id": "tribal-single",
   "metadata": {},
   "source": [
    "### Refining the Plot\n",
    "\n",
    "The current plot is messy and hard to interpret. We can refine it by reducing the number of classes shown and excluding irrelevant classes."
   ]
  },
  {
   "cell_type": "code",
   "execution_count": null,
   "id": "stone-navigator",
   "metadata": {
    "ExecuteTime": {
     "end_time": "2021-04-21T00:21:53.546958Z",
     "start_time": "2021-04-21T00:21:53.088462Z"
    }
   },
   "outputs": [],
   "source": [
    "# Setting max classes removes classes with few observations\n",
    "max_classes = 3\n",
    "\n",
    "# Evergreen conifer forest (1) and Mixed forest (5) have a lot of observations but don't experience\n",
    "# much change, so we'll remove them from the plot. If you're not sure which ID corresponds to which\n",
    "# class, you can run dataset.df.\n",
    "exclude_classes = [1, 5]\n",
    "\n",
    "# The resulting plot clearly shows how permanent snow and ice is being converted to grassland and barren.\n",
    "plot = sankee.sankify(image_list, aoi, dataset=dataset, max_classes=max_classes, exclude=exclude_classes)\n",
    "plot"
   ]
  }
 ],
 "metadata": {
  "kernelspec": {
   "display_name": "Python 3",
   "language": "python",
   "name": "python3"
  },
  "language_info": {
   "codemirror_mode": {
    "name": "ipython",
    "version": 3
   },
   "file_extension": ".py",
   "mimetype": "text/x-python",
   "name": "python",
   "nbconvert_exporter": "python",
   "pygments_lexer": "ipython3",
   "version": "3.8.5"
  },
  "toc": {
   "base_numbering": 1,
   "nav_menu": {},
   "number_sections": true,
   "sideBar": true,
   "skip_h1_title": false,
   "title_cell": "Table of Contents",
   "title_sidebar": "Contents",
   "toc_cell": false,
   "toc_position": {},
   "toc_section_display": true,
   "toc_window_display": true
  }
 },
 "nbformat": 4,
 "nbformat_minor": 5
}
