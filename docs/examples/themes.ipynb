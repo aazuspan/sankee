{
 "cells": [
  {
   "cell_type": "markdown",
   "metadata": {},
   "source": [
    "# Themes\n",
    "\n",
    "Themes can be used to customize the appearance of Sankey diagrams. `sankee` contains a few built-in themes, but you can also create your own themes for additional control. Let's get started by setting up and initializing our packages."
   ]
  },
  {
   "cell_type": "code",
   "execution_count": 1,
   "metadata": {},
   "outputs": [],
   "source": [
    "import sankee\n",
    "import ee\n",
    "\n",
    "ee.Initialize()"
   ]
  },
  {
   "cell_type": "markdown",
   "metadata": {},
   "source": [
    "## The Default Theme"
   ]
  },
  {
   "cell_type": "markdown",
   "metadata": {},
   "source": [
    "`sankee` includes a default theme it will use unless you specify one. To demonstrate, we'll look at urban expansion around Houston, Texas between 1986 and 2020."
   ]
  },
  {
   "cell_type": "code",
   "execution_count": 2,
   "metadata": {},
   "outputs": [
    {
     "data": {
      "application/vnd.jupyter.widget-view+json": {
       "model_id": "d0994cf3e9e64dfd8e5b46bb96e85453",
       "version_major": 2,
       "version_minor": 0
      },
      "text/plain": [
       "SankeyPlot()"
      ]
     },
     "metadata": {},
     "output_type": "display_data"
    }
   ],
   "source": [
    "aoi = ee.Geometry.Point([-95.78867372638199, 29.773539101705214]).buffer(30_000)\n",
    "sankee.datasets.LCMS_LU.sankify(\n",
    "    years=[1986, 2020],\n",
    "    region=aoi,\n",
    "    n=100,\n",
    "    title=\"Urban Expansion in Houston, TX\",\n",
    ")"
   ]
  },
  {
   "cell_type": "markdown",
   "metadata": {},
   "source": [
    "## Built-in Themes\n",
    "\n",
    "You can override the default theme using the `theme` argument to `sankify.` Using `theme=\"d3\"` will give us a similar appearance to a Sankey diagram from the [d3-sankey](https://github.com/d3/d3-sankey) library."
   ]
  },
  {
   "cell_type": "code",
   "execution_count": 3,
   "metadata": {},
   "outputs": [
    {
     "data": {
      "application/vnd.jupyter.widget-view+json": {
       "model_id": "df7523a6ed674f3684b43cc481992bc1",
       "version_major": 2,
       "version_minor": 0
      },
      "text/plain": [
       "SankeyPlot()"
      ]
     },
     "metadata": {},
     "output_type": "display_data"
    }
   ],
   "source": [
    "sankee.datasets.LCMS_LU.sankify(\n",
    "    years=[1986, 2020],\n",
    "    region=aoi,\n",
    "    n=100,\n",
    "    title=\"Urban Expansion in Houston, TX\",\n",
    "    theme=\"d3\"\n",
    ")"
   ]
  },
  {
   "cell_type": "markdown",
   "metadata": {},
   "source": [
    "Or we can use `theme=\"simple\"` to get a slightly more minimalist theme."
   ]
  },
  {
   "cell_type": "code",
   "execution_count": 4,
   "metadata": {},
   "outputs": [
    {
     "data": {
      "application/vnd.jupyter.widget-view+json": {
       "model_id": "28013a243b824fdcb529b3da6055b613",
       "version_major": 2,
       "version_minor": 0
      },
      "text/plain": [
       "SankeyPlot()"
      ]
     },
     "metadata": {},
     "output_type": "display_data"
    }
   ],
   "source": [
    "sankee.datasets.LCMS_LU.sankify(\n",
    "    years=[1986, 2020],\n",
    "    region=aoi,\n",
    "    n=100,\n",
    "    title=\"Urban Expansion in Houston, TX\",\n",
    "    theme=\"simple\"\n",
    ")"
   ]
  },
  {
   "cell_type": "markdown",
   "metadata": {},
   "source": [
    "## Building a Custom Theme\n",
    "\n",
    "The `theme` argument accepts either the name of a built-in theme *or* a custom `sankee.themes.Theme` object. You can create your own `Theme` object to define a custom style. Let's try that."
   ]
  },
  {
   "cell_type": "markdown",
   "metadata": {},
   "source": [
    "### Link and Node Arguments\n",
    "\n",
    "The first way we can modify a figure is by passing in keyword arguments for the link and node styles. We'll experiment by changing the `thickness` and `pad` between our nodes and the `link` colors. Check out the [Plotly documentation](https://plotly.com/python/sankey-diagram/) for more information."
   ]
  },
  {
   "cell_type": "code",
   "execution_count": 5,
   "metadata": {},
   "outputs": [],
   "source": [
    "custom_theme = sankee.themes.Theme(\n",
    "    # We can set a custom link color to override the default. We'll choose a transparent bluish color.\n",
    "    link_kwargs=dict(color=\"rgba(0, 180, 255, 0.1)\"),\n",
    "    # Thickness sets the size of the node rectangles and pad sets the spacing between them. We can \n",
    "    # also customize the border around nodes using the line argument.\n",
    "    node_kwargs=dict(thickness=100, pad=100, line=dict(width=4, color=\"#628eb3\")),\n",
    ")"
   ]
  },
  {
   "cell_type": "markdown",
   "metadata": {},
   "source": [
    "Now we'll apply our custom theme to our Sankey diagram."
   ]
  },
  {
   "cell_type": "code",
   "execution_count": 6,
   "metadata": {},
   "outputs": [
    {
     "data": {
      "application/vnd.jupyter.widget-view+json": {
       "model_id": "769b17bfa31f46e7b42b6742deaf6add",
       "version_major": 2,
       "version_minor": 0
      },
      "text/plain": [
       "SankeyPlot()"
      ]
     },
     "metadata": {},
     "output_type": "display_data"
    }
   ],
   "source": [
    "sankee.datasets.LCMS_LU.sankify(\n",
    "    years=[1986, 2020],\n",
    "    region=aoi,\n",
    "    n=100,\n",
    "    title=\"Urban Expansion in Houston, TX\",\n",
    "    theme=custom_theme\n",
    ")"
   ]
  },
  {
   "cell_type": "markdown",
   "metadata": {},
   "source": [
    "### Title and Label Styles\n",
    "\n",
    "The other way to customize a theme is by specifying CSS properties to apply to the node labels and figure title. We'll add those to the theme parameters we defined above to finish our custom theme."
   ]
  },
  {
   "cell_type": "code",
   "execution_count": 7,
   "metadata": {},
   "outputs": [],
   "source": [
    "label_style = \"\"\"\n",
    "    font-style: italic;\n",
    "    font-size: 18px;\n",
    "    color: #4e6980;\n",
    "    letter-spacing: 2px;\n",
    "\"\"\"\n",
    "\n",
    "title_style = \"\"\"\n",
    "    font-size: 24px;\n",
    "    font-weight: 900;\n",
    "    font-variant: small-caps;\n",
    "    color: #4e6980;\n",
    "\"\"\"\n",
    "\n",
    "custom_theme = sankee.themes.Theme(\n",
    "    link_kwargs=dict(color=\"rgba(0, 180, 255, 0.1)\"),\n",
    "    node_kwargs=dict(thickness=100, pad=100, line=dict(width=4, color=\"#628eb3\")),\n",
    "    label_style=label_style,\n",
    "    title_style=title_style,\n",
    ")"
   ]
  },
  {
   "cell_type": "markdown",
   "metadata": {},
   "source": [
    "The final product with our custom node, link, label, and title styles:"
   ]
  },
  {
   "cell_type": "code",
   "execution_count": 8,
   "metadata": {},
   "outputs": [
    {
     "data": {
      "application/vnd.jupyter.widget-view+json": {
       "model_id": "a10ca4a18bca415fbddd2b3f0451068d",
       "version_major": 2,
       "version_minor": 0
      },
      "text/plain": [
       "SankeyPlot()"
      ]
     },
     "metadata": {},
     "output_type": "display_data"
    }
   ],
   "source": [
    "sankee.datasets.LCMS_LU.sankify(\n",
    "    years=[1986, 2020],\n",
    "    region=aoi,\n",
    "    n=100,\n",
    "    title=\"Urban Expansion in Houston, TX\",\n",
    "    theme=custom_theme\n",
    ")"
   ]
  }
 ],
 "metadata": {
  "kernelspec": {
   "display_name": "Python 3 (ipykernel)",
   "language": "python",
   "name": "python3"
  },
  "language_info": {
   "codemirror_mode": {
    "name": "ipython",
    "version": 3
   },
   "file_extension": ".py",
   "mimetype": "text/x-python",
   "name": "python",
   "nbconvert_exporter": "python",
   "pygments_lexer": "ipython3",
   "version": "3.9.7"
  },
  "vscode": {
   "interpreter": {
    "hash": "8a62f02bf295d40fd06b4f6941658ed990490ae20c9bce29382f473e94a78289"
   }
  },
  "widgets": {
   "application/vnd.jupyter.widget-state+json": {
    "state": {
     "0264bdfc5da4403ba83cc71f14e6d9d5": {
      "model_module": "@jupyter-widgets/base",
      "model_module_version": "1.2.0",
      "model_name": "LayoutModel",
      "state": {
       "border": "1px dashed #efff6b",
       "height": "24px",
       "width": "24px"
      }
     },
     "069832582e9c4b489afbd3075e991a54": {
      "model_module": "@jupyter-widgets/controls",
      "model_module_version": "1.5.0",
      "model_name": "LabelModel",
      "state": {
       "layout": "IPY_MODEL_6d59e23719584ffe8eea42e6ae843033",
       "style": "IPY_MODEL_ba0232c0705948ce84f5ab2db18485ae",
       "value": "|"
      }
     },
     "07608ccbff9146ffbbb92fc218a41671": {
      "model_module": "@jupyter-widgets/controls",
      "model_module_version": "1.5.0",
      "model_name": "ButtonStyleModel",
      "state": {
       "button_color": "#c2b34a"
      }
     },
     "092aa1fab27941f4bee1c7b79b39cae0": {
      "model_module": "@jupyter-widgets/controls",
      "model_module_version": "1.5.0",
      "model_name": "ButtonStyleModel",
      "state": {}
     },
     "0be7680f7c4c44eaa44e3eea73556597": {
      "model_module": "@jupyter-widgets/controls",
      "model_module_version": "1.5.0",
      "model_name": "ButtonModel",
      "state": {
       "icon": "external-link",
       "layout": "IPY_MODEL_8ddad0c6b948433c873d1724dd005e3a",
       "style": "IPY_MODEL_0de91a5d805440f8afaa9006ff0a25c8",
       "tooltip": "Open in new tab"
      }
     },
     "0de91a5d805440f8afaa9006ff0a25c8": {
      "model_module": "@jupyter-widgets/controls",
      "model_module_version": "1.5.0",
      "model_name": "ButtonStyleModel",
      "state": {}
     },
     "104e30f4e27b496b9263dd5e309025ff": {
      "model_module": "jupyterlab-plotly",
      "model_module_version": "^5.9.0",
      "model_name": "FigureModel",
      "state": {
       "_config": {
        "plotlyServerURL": "https://plot.ly"
       },
       "_data": [
        {
         "arrangement": "snap",
         "link": {
          "color": "rgba(0, 180, 255, 0.1)",
          "customdata": [
           "<b>43%</b> of <b>Agriculture</b> remained <b>Agriculture</b>",
           "<b>39%</b> of <b>Agriculture</b> became <b>Developed</b>",
           "<b>13%</b> of <b>Agriculture</b> became <b>Forest</b>",
           "<b>4%</b> of <b>Agriculture</b> became <b>Rangeland or Pasture</b>",
           "<b>3%</b> of <b>Developed</b> became <b>Agriculture</b>",
           "<b>78%</b> of <b>Developed</b> remained <b>Developed</b>",
           "<b>9%</b> of <b>Developed</b> became <b>Forest</b>",
           "<b>3%</b> of <b>Developed</b> became <b>Other</b>",
           "<b>6%</b> of <b>Developed</b> became <b>Rangeland or Pasture</b>",
           "<b>3%</b> of <b>Forest</b> became <b>Agriculture</b>",
           "<b>41%</b> of <b>Forest</b> became <b>Developed</b>",
           "<b>41%</b> of <b>Forest</b> remained <b>Forest</b>",
           "<b>14%</b> of <b>Forest</b> became <b>Rangeland or Pasture</b>",
           "<b>100%</b> of <b>Other</b> became <b>Developed</b>",
           "<b>20%</b> of <b>Rangeland or Pasture</b> became <b>Agriculture</b>",
           "<b>20%</b> of <b>Rangeland or Pasture</b> became <b>Developed</b>",
           "<b>13%</b> of <b>Rangeland or Pasture</b> became <b>Forest</b>",
           "<b>47%</b> of <b>Rangeland or Pasture</b> remained <b>Rangeland or Pasture</b>"
          ],
          "hovertemplate": "%{customdata} <extra></extra>",
          "source": [
           0,
           0,
           0,
           0,
           1,
           1,
           1,
           1,
           1,
           2,
           2,
           2,
           2,
           3,
           4,
           4,
           4,
           4
          ],
          "target": [
           5,
           6,
           7,
           8,
           5,
           6,
           7,
           9,
           8,
           5,
           6,
           7,
           8,
           6,
           5,
           6,
           7,
           8
          ],
          "value": [
           10,
           9,
           3,
           1,
           1,
           25,
           3,
           1,
           2,
           1,
           12,
           12,
           4,
           1,
           3,
           3,
           2,
           7
          ]
         },
         "node": {
          "color": [
           "#efff6b",
           "#ff2ff8",
           "#1b9d0c",
           "#a1a1a1",
           "#c2b34a",
           "#efff6b",
           "#ff2ff8",
           "#1b9d0c",
           "#c2b34a",
           "#a1a1a1"
          ],
          "customdata": [
           "1986",
           "1986",
           "1986",
           "1986",
           "1986",
           "2020",
           "2020",
           "2020",
           "2020",
           "2020"
          ],
          "hovertemplate": "<b>%{customdata}</b><extra></extra>",
          "label": [
           "<span style='None'>Agriculture</span>",
           "<span style='None'>Developed</span>",
           "<span style='None'>Forest</span>",
           "<span style='None'>Other</span>",
           "<span style='None'>Rangeland or Pasture</span>",
           "<span style='None'>Agriculture</span>",
           "<span style='None'>Developed</span>",
           "<span style='None'>Forest</span>",
           "<span style='None'>Rangeland or Pasture</span>",
           "<span style='None'>Other</span>"
          ],
          "line": {
           "color": "#628eb3",
           "width": 4
          },
          "pad": 100,
          "thickness": 100
         },
         "type": "sankey",
         "uid": "caad8b94-fc74-4292-8454-1afa6ad4958d"
        }
       ],
       "_js2py_pointsCallback": {},
       "_js2py_restyle": {},
       "_js2py_update": {},
       "_last_layout_edit_id": 2,
       "_last_trace_edit_id": 1,
       "_layout": {
        "autosize": true,
        "font": {
         "size": 16
        },
        "paper_bgcolor": "rgba(0, 0, 0, 0)",
        "template": {
         "data": {
          "bar": [
           {
            "error_x": {
             "color": "#2a3f5f"
            },
            "error_y": {
             "color": "#2a3f5f"
            },
            "marker": {
             "line": {
              "color": "#E5ECF6",
              "width": 0.5
             },
             "pattern": {
              "fillmode": "overlay",
              "size": 10,
              "solidity": 0.2
             }
            },
            "type": "bar"
           }
          ],
          "barpolar": [
           {
            "marker": {
             "line": {
              "color": "#E5ECF6",
              "width": 0.5
             },
             "pattern": {
              "fillmode": "overlay",
              "size": 10,
              "solidity": 0.2
             }
            },
            "type": "barpolar"
           }
          ],
          "carpet": [
           {
            "aaxis": {
             "endlinecolor": "#2a3f5f",
             "gridcolor": "white",
             "linecolor": "white",
             "minorgridcolor": "white",
             "startlinecolor": "#2a3f5f"
            },
            "baxis": {
             "endlinecolor": "#2a3f5f",
             "gridcolor": "white",
             "linecolor": "white",
             "minorgridcolor": "white",
             "startlinecolor": "#2a3f5f"
            },
            "type": "carpet"
           }
          ],
          "choropleth": [
           {
            "colorbar": {
             "outlinewidth": 0,
             "ticks": ""
            },
            "type": "choropleth"
           }
          ],
          "contour": [
           {
            "colorbar": {
             "outlinewidth": 0,
             "ticks": ""
            },
            "colorscale": [
             [
              0,
              "#0d0887"
             ],
             [
              0.1111111111111111,
              "#46039f"
             ],
             [
              0.2222222222222222,
              "#7201a8"
             ],
             [
              0.3333333333333333,
              "#9c179e"
             ],
             [
              0.4444444444444444,
              "#bd3786"
             ],
             [
              0.5555555555555556,
              "#d8576b"
             ],
             [
              0.6666666666666666,
              "#ed7953"
             ],
             [
              0.7777777777777778,
              "#fb9f3a"
             ],
             [
              0.8888888888888888,
              "#fdca26"
             ],
             [
              1,
              "#f0f921"
             ]
            ],
            "type": "contour"
           }
          ],
          "contourcarpet": [
           {
            "colorbar": {
             "outlinewidth": 0,
             "ticks": ""
            },
            "type": "contourcarpet"
           }
          ],
          "heatmap": [
           {
            "colorbar": {
             "outlinewidth": 0,
             "ticks": ""
            },
            "colorscale": [
             [
              0,
              "#0d0887"
             ],
             [
              0.1111111111111111,
              "#46039f"
             ],
             [
              0.2222222222222222,
              "#7201a8"
             ],
             [
              0.3333333333333333,
              "#9c179e"
             ],
             [
              0.4444444444444444,
              "#bd3786"
             ],
             [
              0.5555555555555556,
              "#d8576b"
             ],
             [
              0.6666666666666666,
              "#ed7953"
             ],
             [
              0.7777777777777778,
              "#fb9f3a"
             ],
             [
              0.8888888888888888,
              "#fdca26"
             ],
             [
              1,
              "#f0f921"
             ]
            ],
            "type": "heatmap"
           }
          ],
          "heatmapgl": [
           {
            "colorbar": {
             "outlinewidth": 0,
             "ticks": ""
            },
            "colorscale": [
             [
              0,
              "#0d0887"
             ],
             [
              0.1111111111111111,
              "#46039f"
             ],
             [
              0.2222222222222222,
              "#7201a8"
             ],
             [
              0.3333333333333333,
              "#9c179e"
             ],
             [
              0.4444444444444444,
              "#bd3786"
             ],
             [
              0.5555555555555556,
              "#d8576b"
             ],
             [
              0.6666666666666666,
              "#ed7953"
             ],
             [
              0.7777777777777778,
              "#fb9f3a"
             ],
             [
              0.8888888888888888,
              "#fdca26"
             ],
             [
              1,
              "#f0f921"
             ]
            ],
            "type": "heatmapgl"
           }
          ],
          "histogram": [
           {
            "marker": {
             "pattern": {
              "fillmode": "overlay",
              "size": 10,
              "solidity": 0.2
             }
            },
            "type": "histogram"
           }
          ],
          "histogram2d": [
           {
            "colorbar": {
             "outlinewidth": 0,
             "ticks": ""
            },
            "colorscale": [
             [
              0,
              "#0d0887"
             ],
             [
              0.1111111111111111,
              "#46039f"
             ],
             [
              0.2222222222222222,
              "#7201a8"
             ],
             [
              0.3333333333333333,
              "#9c179e"
             ],
             [
              0.4444444444444444,
              "#bd3786"
             ],
             [
              0.5555555555555556,
              "#d8576b"
             ],
             [
              0.6666666666666666,
              "#ed7953"
             ],
             [
              0.7777777777777778,
              "#fb9f3a"
             ],
             [
              0.8888888888888888,
              "#fdca26"
             ],
             [
              1,
              "#f0f921"
             ]
            ],
            "type": "histogram2d"
           }
          ],
          "histogram2dcontour": [
           {
            "colorbar": {
             "outlinewidth": 0,
             "ticks": ""
            },
            "colorscale": [
             [
              0,
              "#0d0887"
             ],
             [
              0.1111111111111111,
              "#46039f"
             ],
             [
              0.2222222222222222,
              "#7201a8"
             ],
             [
              0.3333333333333333,
              "#9c179e"
             ],
             [
              0.4444444444444444,
              "#bd3786"
             ],
             [
              0.5555555555555556,
              "#d8576b"
             ],
             [
              0.6666666666666666,
              "#ed7953"
             ],
             [
              0.7777777777777778,
              "#fb9f3a"
             ],
             [
              0.8888888888888888,
              "#fdca26"
             ],
             [
              1,
              "#f0f921"
             ]
            ],
            "type": "histogram2dcontour"
           }
          ],
          "mesh3d": [
           {
            "colorbar": {
             "outlinewidth": 0,
             "ticks": ""
            },
            "type": "mesh3d"
           }
          ],
          "parcoords": [
           {
            "line": {
             "colorbar": {
              "outlinewidth": 0,
              "ticks": ""
             }
            },
            "type": "parcoords"
           }
          ],
          "pie": [
           {
            "automargin": true,
            "type": "pie"
           }
          ],
          "scatter": [
           {
            "fillpattern": {
             "fillmode": "overlay",
             "size": 10,
             "solidity": 0.2
            },
            "type": "scatter"
           }
          ],
          "scatter3d": [
           {
            "line": {
             "colorbar": {
              "outlinewidth": 0,
              "ticks": ""
             }
            },
            "marker": {
             "colorbar": {
              "outlinewidth": 0,
              "ticks": ""
             }
            },
            "type": "scatter3d"
           }
          ],
          "scattercarpet": [
           {
            "marker": {
             "colorbar": {
              "outlinewidth": 0,
              "ticks": ""
             }
            },
            "type": "scattercarpet"
           }
          ],
          "scattergeo": [
           {
            "marker": {
             "colorbar": {
              "outlinewidth": 0,
              "ticks": ""
             }
            },
            "type": "scattergeo"
           }
          ],
          "scattergl": [
           {
            "marker": {
             "colorbar": {
              "outlinewidth": 0,
              "ticks": ""
             }
            },
            "type": "scattergl"
           }
          ],
          "scattermapbox": [
           {
            "marker": {
             "colorbar": {
              "outlinewidth": 0,
              "ticks": ""
             }
            },
            "type": "scattermapbox"
           }
          ],
          "scatterpolar": [
           {
            "marker": {
             "colorbar": {
              "outlinewidth": 0,
              "ticks": ""
             }
            },
            "type": "scatterpolar"
           }
          ],
          "scatterpolargl": [
           {
            "marker": {
             "colorbar": {
              "outlinewidth": 0,
              "ticks": ""
             }
            },
            "type": "scatterpolargl"
           }
          ],
          "scatterternary": [
           {
            "marker": {
             "colorbar": {
              "outlinewidth": 0,
              "ticks": ""
             }
            },
            "type": "scatterternary"
           }
          ],
          "surface": [
           {
            "colorbar": {
             "outlinewidth": 0,
             "ticks": ""
            },
            "colorscale": [
             [
              0,
              "#0d0887"
             ],
             [
              0.1111111111111111,
              "#46039f"
             ],
             [
              0.2222222222222222,
              "#7201a8"
             ],
             [
              0.3333333333333333,
              "#9c179e"
             ],
             [
              0.4444444444444444,
              "#bd3786"
             ],
             [
              0.5555555555555556,
              "#d8576b"
             ],
             [
              0.6666666666666666,
              "#ed7953"
             ],
             [
              0.7777777777777778,
              "#fb9f3a"
             ],
             [
              0.8888888888888888,
              "#fdca26"
             ],
             [
              1,
              "#f0f921"
             ]
            ],
            "type": "surface"
           }
          ],
          "table": [
           {
            "cells": {
             "fill": {
              "color": "#EBF0F8"
             },
             "line": {
              "color": "white"
             }
            },
            "header": {
             "fill": {
              "color": "#C8D4E3"
             },
             "line": {
              "color": "white"
             }
            },
            "type": "table"
           }
          ]
         },
         "layout": {
          "annotationdefaults": {
           "arrowcolor": "#2a3f5f",
           "arrowhead": 0,
           "arrowwidth": 1
          },
          "autotypenumbers": "strict",
          "coloraxis": {
           "colorbar": {
            "outlinewidth": 0,
            "ticks": ""
           }
          },
          "colorscale": {
           "diverging": [
            [
             0,
             "#8e0152"
            ],
            [
             0.1,
             "#c51b7d"
            ],
            [
             0.2,
             "#de77ae"
            ],
            [
             0.3,
             "#f1b6da"
            ],
            [
             0.4,
             "#fde0ef"
            ],
            [
             0.5,
             "#f7f7f7"
            ],
            [
             0.6,
             "#e6f5d0"
            ],
            [
             0.7,
             "#b8e186"
            ],
            [
             0.8,
             "#7fbc41"
            ],
            [
             0.9,
             "#4d9221"
            ],
            [
             1,
             "#276419"
            ]
           ],
           "sequential": [
            [
             0,
             "#0d0887"
            ],
            [
             0.1111111111111111,
             "#46039f"
            ],
            [
             0.2222222222222222,
             "#7201a8"
            ],
            [
             0.3333333333333333,
             "#9c179e"
            ],
            [
             0.4444444444444444,
             "#bd3786"
            ],
            [
             0.5555555555555556,
             "#d8576b"
            ],
            [
             0.6666666666666666,
             "#ed7953"
            ],
            [
             0.7777777777777778,
             "#fb9f3a"
            ],
            [
             0.8888888888888888,
             "#fdca26"
            ],
            [
             1,
             "#f0f921"
            ]
           ],
           "sequentialminus": [
            [
             0,
             "#0d0887"
            ],
            [
             0.1111111111111111,
             "#46039f"
            ],
            [
             0.2222222222222222,
             "#7201a8"
            ],
            [
             0.3333333333333333,
             "#9c179e"
            ],
            [
             0.4444444444444444,
             "#bd3786"
            ],
            [
             0.5555555555555556,
             "#d8576b"
            ],
            [
             0.6666666666666666,
             "#ed7953"
            ],
            [
             0.7777777777777778,
             "#fb9f3a"
            ],
            [
             0.8888888888888888,
             "#fdca26"
            ],
            [
             1,
             "#f0f921"
            ]
           ]
          },
          "colorway": [
           "#636efa",
           "#EF553B",
           "#00cc96",
           "#ab63fa",
           "#FFA15A",
           "#19d3f3",
           "#FF6692",
           "#B6E880",
           "#FF97FF",
           "#FECB52"
          ],
          "font": {
           "color": "#2a3f5f"
          },
          "geo": {
           "bgcolor": "white",
           "lakecolor": "white",
           "landcolor": "#E5ECF6",
           "showlakes": true,
           "showland": true,
           "subunitcolor": "white"
          },
          "hoverlabel": {
           "align": "left"
          },
          "hovermode": "closest",
          "mapbox": {
           "style": "light"
          },
          "paper_bgcolor": "white",
          "plot_bgcolor": "#E5ECF6",
          "polar": {
           "angularaxis": {
            "gridcolor": "white",
            "linecolor": "white",
            "ticks": ""
           },
           "bgcolor": "#E5ECF6",
           "radialaxis": {
            "gridcolor": "white",
            "linecolor": "white",
            "ticks": ""
           }
          },
          "scene": {
           "xaxis": {
            "backgroundcolor": "#E5ECF6",
            "gridcolor": "white",
            "gridwidth": 2,
            "linecolor": "white",
            "showbackground": true,
            "ticks": "",
            "zerolinecolor": "white"
           },
           "yaxis": {
            "backgroundcolor": "#E5ECF6",
            "gridcolor": "white",
            "gridwidth": 2,
            "linecolor": "white",
            "showbackground": true,
            "ticks": "",
            "zerolinecolor": "white"
           },
           "zaxis": {
            "backgroundcolor": "#E5ECF6",
            "gridcolor": "white",
            "gridwidth": 2,
            "linecolor": "white",
            "showbackground": true,
            "ticks": "",
            "zerolinecolor": "white"
           }
          },
          "shapedefaults": {
           "line": {
            "color": "#2a3f5f"
           }
          },
          "ternary": {
           "aaxis": {
            "gridcolor": "white",
            "linecolor": "white",
            "ticks": ""
           },
           "baxis": {
            "gridcolor": "white",
            "linecolor": "white",
            "ticks": ""
           },
           "bgcolor": "#E5ECF6",
           "caxis": {
            "gridcolor": "white",
            "linecolor": "white",
            "ticks": ""
           }
          },
          "title": {
           "x": 0.05
          },
          "xaxis": {
           "automargin": true,
           "gridcolor": "white",
           "linecolor": "white",
           "ticks": "",
           "title": {
            "standoff": 15
           },
           "zerolinecolor": "white",
           "zerolinewidth": 2
          },
          "yaxis": {
           "automargin": true,
           "gridcolor": "white",
           "linecolor": "white",
           "ticks": "",
           "title": {
            "standoff": 15
           },
           "zerolinecolor": "white",
           "zerolinewidth": 2
          }
         }
        },
        "title": {
         "text": "<span style='None'>Urban Expansion in Houston, TX</span>",
         "x": 0.5
        }
       },
       "_py2js_addTraces": {},
       "_py2js_animate": {},
       "_py2js_deleteTraces": {},
       "_py2js_moveTraces": {},
       "_py2js_removeLayoutProps": {},
       "_py2js_removeTraceProps": {},
       "_py2js_restyle": {},
       "_view_count": 1
      }
     },
     "1058f795f1d841c397adfb71bfcb50db": {
      "model_module": "@jupyter-widgets/controls",
      "model_module_version": "1.5.0",
      "model_name": "ButtonStyleModel",
      "state": {}
     },
     "106465c210f94ac19e0ecc7f782d2aaa": {
      "model_module": "@jupyter-widgets/base",
      "model_module_version": "1.2.0",
      "model_name": "LayoutModel",
      "state": {
       "border": "1px dashed #1b9d0c",
       "height": "24px",
       "width": "24px"
      }
     },
     "14af22099ad748a4a5e64210db978d2c": {
      "model_module": "@jupyter-widgets/base",
      "model_module_version": "1.2.0",
      "model_name": "LayoutModel",
      "state": {
       "align_items": "center"
      }
     },
     "1672923ace79423d96f901f9828a70bf": {
      "model_module": "@jupyter-widgets/base",
      "model_module_version": "1.2.0",
      "model_name": "LayoutModel",
      "state": {
       "border": "1px dashed #a1a1a1",
       "height": "24px",
       "width": "24px"
      }
     },
     "190b82dd7d204444a2e0cc201de7630c": {
      "model_module": "@jupyter-widgets/controls",
      "model_module_version": "1.5.0",
      "model_name": "ButtonModel",
      "state": {
       "layout": "IPY_MODEL_1672923ace79423d96f901f9828a70bf",
       "style": "IPY_MODEL_7e1fe5ec1b7d42499d76855f1bde4b6c",
       "tooltip": "Other"
      }
     },
     "1b8c727963ca4f468721a5d7387c2a76": {
      "model_module": "@jupyter-widgets/controls",
      "model_module_version": "1.5.0",
      "model_name": "ButtonStyleModel",
      "state": {
       "button_color": "#1b9d0c"
      }
     },
     "1bef67927e10475abe5ed70723a64d4f": {
      "model_module": "@jupyter-widgets/controls",
      "model_module_version": "1.5.0",
      "model_name": "ButtonModel",
      "state": {
       "layout": "IPY_MODEL_51d7b71cad394d71b8c82f0f5829477e",
       "style": "IPY_MODEL_62f8624a5a1a46a8bceae646fc9b9e61",
       "tooltip": "Other"
      }
     },
     "1ef5afad5d9d4f40986e457d99f86a36": {
      "model_module": "@jupyter-widgets/base",
      "model_module_version": "1.2.0",
      "model_name": "LayoutModel",
      "state": {
       "border": "1px dashed #efff6b",
       "height": "24px",
       "width": "24px"
      }
     },
     "1f3b553af74941319b9755f5aeffe067": {
      "model_module": "@jupyter-widgets/controls",
      "model_module_version": "1.5.0",
      "model_name": "ButtonStyleModel",
      "state": {
       "button_color": "#a1a1a1"
      }
     },
     "1f881ed510ea405f83f473bb5b6d250d": {
      "model_module": "@jupyter-widgets/controls",
      "model_module_version": "1.5.0",
      "model_name": "ButtonStyleModel",
      "state": {
       "button_color": "#ff2ff8"
      }
     },
     "20017c5e720e40ceab4fe4a04c8a1a9c": {
      "model_module": "@jupyter-widgets/controls",
      "model_module_version": "1.5.0",
      "model_name": "ButtonModel",
      "state": {
       "icon": "external-link",
       "layout": "IPY_MODEL_84957f62571c4182be91b4d7263edb74",
       "style": "IPY_MODEL_a95db6bcb6044e0fb0a25dd7946ee41b",
       "tooltip": "Open in new tab"
      }
     },
     "20330c5ac708448cbd6b818c9cf1ecb5": {
      "model_module": "@jupyter-widgets/controls",
      "model_module_version": "1.5.0",
      "model_name": "ButtonStyleModel",
      "state": {
       "button_color": "#c2b34a"
      }
     },
     "2063cfead8ca4c32848bf7340fe1db11": {
      "model_module": "@jupyter-widgets/base",
      "model_module_version": "1.2.0",
      "model_name": "LayoutModel",
      "state": {}
     },
     "21ad6e4c49ae43f2a5c121f4b7937cfb": {
      "model_module": "@jupyter-widgets/controls",
      "model_module_version": "1.5.0",
      "model_name": "ButtonModel",
      "state": {
       "layout": "IPY_MODEL_753f386067084768805ee56c3f5f7841",
       "style": "IPY_MODEL_db407ec24b1e4bba967f2ad856e7f24f",
       "tooltip": "Other"
      }
     },
     "225e35f7c86e4c1cb27510b078488acf": {
      "model_module": "@jupyter-widgets/controls",
      "model_module_version": "1.5.0",
      "model_name": "ButtonStyleModel",
      "state": {}
     },
     "23857942e51a42ffba35449ea2659d40": {
      "model_module": "@jupyter-widgets/controls",
      "model_module_version": "1.5.0",
      "model_name": "ButtonStyleModel",
      "state": {
       "button_color": "#a1a1a1"
      }
     },
     "24bd879c735c4f74a3a10140cfd4553b": {
      "model_module": "@jupyter-widgets/controls",
      "model_module_version": "1.5.0",
      "model_name": "ButtonModel",
      "state": {
       "layout": "IPY_MODEL_84328b0b41b046e5abc3e32e40d7ca58",
       "style": "IPY_MODEL_db40905ab4c8496793185894be44737c",
       "tooltip": "Rangeland or Pasture"
      }
     },
     "24be6a97edd146e88522fbce8c9ab96c": {
      "model_module": "@jupyter-widgets/controls",
      "model_module_version": "1.5.0",
      "model_name": "ButtonStyleModel",
      "state": {
       "button_color": "#ff2ff8"
      }
     },
     "28013a243b824fdcb529b3da6055b613": {
      "model_module": "@jupyter-widgets/controls",
      "model_module_version": "1.5.0",
      "model_name": "VBoxModel",
      "state": {
       "children": [
        "IPY_MODEL_3cb139d72ece44d092041c80e8b41e25",
        "IPY_MODEL_a9577b5a4ac14ea3b7bcbdb0d74e7c0f"
       ],
       "layout": "IPY_MODEL_e8557c293fcf4401924c0ba3e040cbdc"
      }
     },
     "289eb75046b04fb6ae3c914c845bcb2b": {
      "model_module": "@jupyter-widgets/controls",
      "model_module_version": "1.5.0",
      "model_name": "ButtonModel",
      "state": {
       "layout": "IPY_MODEL_eaac218991024881a1fbe842b1c17457",
       "style": "IPY_MODEL_9e2b1ccacb634146bcc422ea0ee0606d",
       "tooltip": "Agriculture"
      }
     },
     "2c1756e37a314e8e89ca4248ac2c84a7": {
      "model_module": "@jupyter-widgets/controls",
      "model_module_version": "1.5.0",
      "model_name": "ButtonModel",
      "state": {
       "icon": "external-link",
       "layout": "IPY_MODEL_c84b0343ff374a07b80dcebc863a6491",
       "style": "IPY_MODEL_1058f795f1d841c397adfb71bfcb50db",
       "tooltip": "Open in new tab"
      }
     },
     "2d868c76d51d4759a283daac8865fcaf": {
      "model_module": "@jupyter-widgets/controls",
      "model_module_version": "1.5.0",
      "model_name": "ButtonStyleModel",
      "state": {
       "button_color": "#c2b34a"
      }
     },
     "2ea4a3dc2fd74364992909061be62f04": {
      "model_module": "@jupyter-widgets/base",
      "model_module_version": "1.2.0",
      "model_name": "LayoutModel",
      "state": {
       "border": "1px dashed #c2b34a",
       "height": "24px",
       "width": "24px"
      }
     },
     "2f121e1cbc424354b3d9947c36760771": {
      "model_module": "@jupyter-widgets/base",
      "model_module_version": "1.2.0",
      "model_name": "LayoutModel",
      "state": {
       "border": "1px dashed #1b9d0c",
       "height": "24px",
       "width": "24px"
      }
     },
     "30587a6c3e80422f9f843ff21316c1af": {
      "model_module": "@jupyter-widgets/controls",
      "model_module_version": "1.5.0",
      "model_name": "ButtonModel",
      "state": {
       "layout": "IPY_MODEL_8f38f51de29240589bc76ee1392dd716",
       "style": "IPY_MODEL_1f881ed510ea405f83f473bb5b6d250d",
       "tooltip": "Developed"
      }
     },
     "30f6db4837a2415bab9928195078b180": {
      "model_module": "@jupyter-widgets/controls",
      "model_module_version": "1.5.0",
      "model_name": "ButtonModel",
      "state": {
       "layout": "IPY_MODEL_41c371aea308430bad1829c1f7087e99",
       "style": "IPY_MODEL_3f9139ee43fe4a46b44493fde912da60",
       "tooltip": "Forest"
      }
     },
     "3133439ff02c4577ae106ec0d7b24479": {
      "model_module": "@jupyter-widgets/controls",
      "model_module_version": "1.5.0",
      "model_name": "LabelModel",
      "state": {
       "layout": "IPY_MODEL_dbd7f9db27024287b672842a2ccfe724",
       "style": "IPY_MODEL_fb7a75dfd66444adac06608104409ebb",
       "value": "|"
      }
     },
     "31870c07d539425884454a76a5a6385b": {
      "model_module": "@jupyter-widgets/controls",
      "model_module_version": "1.5.0",
      "model_name": "LabelModel",
      "state": {
       "layout": "IPY_MODEL_756828ab42024cbcac83721777403c29",
       "style": "IPY_MODEL_d8eea6dd547447fa9ad99a7bff253abf",
       "value": "|"
      }
     },
     "321cb9ff0a29441cbee4f9df3838a517": {
      "model_module": "@jupyter-widgets/base",
      "model_module_version": "1.2.0",
      "model_name": "LayoutModel",
      "state": {
       "align_items": "center"
      }
     },
     "34f8d18cec354a6a8cfa30da0077042c": {
      "model_module": "@jupyter-widgets/controls",
      "model_module_version": "1.5.0",
      "model_name": "VBoxModel",
      "state": {
       "children": [
        "IPY_MODEL_caa442cff76d49939862d500d85a0af3"
       ],
       "layout": "IPY_MODEL_14af22099ad748a4a5e64210db978d2c"
      }
     },
     "35930ffcf4984285804df9e349e98c4b": {
      "model_module": "@jupyter-widgets/base",
      "model_module_version": "1.2.0",
      "model_name": "LayoutModel",
      "state": {}
     },
     "3659d09a9c8d45879f9a54bfc2ff2e12": {
      "model_module": "@jupyter-widgets/controls",
      "model_module_version": "1.5.0",
      "model_name": "ButtonStyleModel",
      "state": {
       "button_color": "#ff2ff8"
      }
     },
     "3b4101c6e0424a3cb0276c11c4c9f4c1": {
      "model_module": "@jupyter-widgets/base",
      "model_module_version": "1.2.0",
      "model_name": "LayoutModel",
      "state": {
       "border": "1px dashed #1b9d0c",
       "height": "24px",
       "width": "24px"
      }
     },
     "3b6804c66c1441bfb377bf80f6434f15": {
      "model_module": "@jupyter-widgets/controls",
      "model_module_version": "1.5.0",
      "model_name": "ButtonStyleModel",
      "state": {
       "button_color": "#efff6b"
      }
     },
     "3bc319e4b50a4e84b1db74c3b516bac2": {
      "model_module": "@jupyter-widgets/controls",
      "model_module_version": "1.5.0",
      "model_name": "DescriptionStyleModel",
      "state": {
       "description_width": ""
      }
     },
     "3cb139d72ece44d092041c80e8b41e25": {
      "model_module": "jupyterlab-plotly",
      "model_module_version": "^5.9.0",
      "model_name": "FigureModel",
      "state": {
       "_config": {
        "plotlyServerURL": "https://plot.ly"
       },
       "_data": [
        {
         "arrangement": "snap",
         "link": {
          "color": "rgba(120, 120, 120, 0.25)",
          "customdata": [
           "<b>43%</b> of <b>Agriculture</b> remained <b>Agriculture</b>",
           "<b>39%</b> of <b>Agriculture</b> became <b>Developed</b>",
           "<b>13%</b> of <b>Agriculture</b> became <b>Forest</b>",
           "<b>4%</b> of <b>Agriculture</b> became <b>Rangeland or Pasture</b>",
           "<b>3%</b> of <b>Developed</b> became <b>Agriculture</b>",
           "<b>78%</b> of <b>Developed</b> remained <b>Developed</b>",
           "<b>9%</b> of <b>Developed</b> became <b>Forest</b>",
           "<b>3%</b> of <b>Developed</b> became <b>Other</b>",
           "<b>6%</b> of <b>Developed</b> became <b>Rangeland or Pasture</b>",
           "<b>3%</b> of <b>Forest</b> became <b>Agriculture</b>",
           "<b>41%</b> of <b>Forest</b> became <b>Developed</b>",
           "<b>41%</b> of <b>Forest</b> remained <b>Forest</b>",
           "<b>14%</b> of <b>Forest</b> became <b>Rangeland or Pasture</b>",
           "<b>100%</b> of <b>Other</b> became <b>Developed</b>",
           "<b>20%</b> of <b>Rangeland or Pasture</b> became <b>Agriculture</b>",
           "<b>20%</b> of <b>Rangeland or Pasture</b> became <b>Developed</b>",
           "<b>13%</b> of <b>Rangeland or Pasture</b> became <b>Forest</b>",
           "<b>47%</b> of <b>Rangeland or Pasture</b> remained <b>Rangeland or Pasture</b>"
          ],
          "hovertemplate": "%{customdata} <extra></extra>",
          "source": [
           0,
           0,
           0,
           0,
           1,
           1,
           1,
           1,
           1,
           2,
           2,
           2,
           2,
           3,
           4,
           4,
           4,
           4
          ],
          "target": [
           5,
           6,
           7,
           8,
           5,
           6,
           7,
           9,
           8,
           5,
           6,
           7,
           8,
           6,
           5,
           6,
           7,
           8
          ],
          "value": [
           10,
           9,
           3,
           1,
           1,
           25,
           3,
           1,
           2,
           1,
           12,
           12,
           4,
           1,
           3,
           3,
           2,
           7
          ]
         },
         "node": {
          "color": [
           "#efff6b",
           "#ff2ff8",
           "#1b9d0c",
           "#a1a1a1",
           "#c2b34a",
           "#efff6b",
           "#ff2ff8",
           "#1b9d0c",
           "#c2b34a",
           "#a1a1a1"
          ],
          "customdata": [
           "1986",
           "1986",
           "1986",
           "1986",
           "1986",
           "2020",
           "2020",
           "2020",
           "2020",
           "2020"
          ],
          "hovertemplate": "<b>%{customdata}</b><extra></extra>",
          "label": [
           "<span style='\n        color: #666666;\n        font-size: 18px;\n        color: #666666;\n    '>Agriculture</span>",
           "<span style='\n        color: #666666;\n        font-size: 18px;\n        color: #666666;\n    '>Developed</span>",
           "<span style='\n        color: #666666;\n        font-size: 18px;\n        color: #666666;\n    '>Forest</span>",
           "<span style='\n        color: #666666;\n        font-size: 18px;\n        color: #666666;\n    '>Other</span>",
           "<span style='\n        color: #666666;\n        font-size: 18px;\n        color: #666666;\n    '>Rangeland or Pasture</span>",
           "<span style='\n        color: #666666;\n        font-size: 18px;\n        color: #666666;\n    '>Agriculture</span>",
           "<span style='\n        color: #666666;\n        font-size: 18px;\n        color: #666666;\n    '>Developed</span>",
           "<span style='\n        color: #666666;\n        font-size: 18px;\n        color: #666666;\n    '>Forest</span>",
           "<span style='\n        color: #666666;\n        font-size: 18px;\n        color: #666666;\n    '>Rangeland or Pasture</span>",
           "<span style='\n        color: #666666;\n        font-size: 18px;\n        color: #666666;\n    '>Other</span>"
          ],
          "line": {
           "width": 0
          },
          "pad": 60,
          "thickness": 30
         },
         "type": "sankey",
         "uid": "f9bffb55-74fe-4d57-a806-a9a3f12abf02"
        }
       ],
       "_js2py_pointsCallback": {},
       "_js2py_restyle": {},
       "_js2py_update": {},
       "_last_layout_edit_id": 2,
       "_last_trace_edit_id": 1,
       "_layout": {
        "autosize": true,
        "font": {
         "size": 16
        },
        "paper_bgcolor": "rgba(0, 0, 0, 0)",
        "template": {
         "data": {
          "bar": [
           {
            "error_x": {
             "color": "#2a3f5f"
            },
            "error_y": {
             "color": "#2a3f5f"
            },
            "marker": {
             "line": {
              "color": "#E5ECF6",
              "width": 0.5
             },
             "pattern": {
              "fillmode": "overlay",
              "size": 10,
              "solidity": 0.2
             }
            },
            "type": "bar"
           }
          ],
          "barpolar": [
           {
            "marker": {
             "line": {
              "color": "#E5ECF6",
              "width": 0.5
             },
             "pattern": {
              "fillmode": "overlay",
              "size": 10,
              "solidity": 0.2
             }
            },
            "type": "barpolar"
           }
          ],
          "carpet": [
           {
            "aaxis": {
             "endlinecolor": "#2a3f5f",
             "gridcolor": "white",
             "linecolor": "white",
             "minorgridcolor": "white",
             "startlinecolor": "#2a3f5f"
            },
            "baxis": {
             "endlinecolor": "#2a3f5f",
             "gridcolor": "white",
             "linecolor": "white",
             "minorgridcolor": "white",
             "startlinecolor": "#2a3f5f"
            },
            "type": "carpet"
           }
          ],
          "choropleth": [
           {
            "colorbar": {
             "outlinewidth": 0,
             "ticks": ""
            },
            "type": "choropleth"
           }
          ],
          "contour": [
           {
            "colorbar": {
             "outlinewidth": 0,
             "ticks": ""
            },
            "colorscale": [
             [
              0,
              "#0d0887"
             ],
             [
              0.1111111111111111,
              "#46039f"
             ],
             [
              0.2222222222222222,
              "#7201a8"
             ],
             [
              0.3333333333333333,
              "#9c179e"
             ],
             [
              0.4444444444444444,
              "#bd3786"
             ],
             [
              0.5555555555555556,
              "#d8576b"
             ],
             [
              0.6666666666666666,
              "#ed7953"
             ],
             [
              0.7777777777777778,
              "#fb9f3a"
             ],
             [
              0.8888888888888888,
              "#fdca26"
             ],
             [
              1,
              "#f0f921"
             ]
            ],
            "type": "contour"
           }
          ],
          "contourcarpet": [
           {
            "colorbar": {
             "outlinewidth": 0,
             "ticks": ""
            },
            "type": "contourcarpet"
           }
          ],
          "heatmap": [
           {
            "colorbar": {
             "outlinewidth": 0,
             "ticks": ""
            },
            "colorscale": [
             [
              0,
              "#0d0887"
             ],
             [
              0.1111111111111111,
              "#46039f"
             ],
             [
              0.2222222222222222,
              "#7201a8"
             ],
             [
              0.3333333333333333,
              "#9c179e"
             ],
             [
              0.4444444444444444,
              "#bd3786"
             ],
             [
              0.5555555555555556,
              "#d8576b"
             ],
             [
              0.6666666666666666,
              "#ed7953"
             ],
             [
              0.7777777777777778,
              "#fb9f3a"
             ],
             [
              0.8888888888888888,
              "#fdca26"
             ],
             [
              1,
              "#f0f921"
             ]
            ],
            "type": "heatmap"
           }
          ],
          "heatmapgl": [
           {
            "colorbar": {
             "outlinewidth": 0,
             "ticks": ""
            },
            "colorscale": [
             [
              0,
              "#0d0887"
             ],
             [
              0.1111111111111111,
              "#46039f"
             ],
             [
              0.2222222222222222,
              "#7201a8"
             ],
             [
              0.3333333333333333,
              "#9c179e"
             ],
             [
              0.4444444444444444,
              "#bd3786"
             ],
             [
              0.5555555555555556,
              "#d8576b"
             ],
             [
              0.6666666666666666,
              "#ed7953"
             ],
             [
              0.7777777777777778,
              "#fb9f3a"
             ],
             [
              0.8888888888888888,
              "#fdca26"
             ],
             [
              1,
              "#f0f921"
             ]
            ],
            "type": "heatmapgl"
           }
          ],
          "histogram": [
           {
            "marker": {
             "pattern": {
              "fillmode": "overlay",
              "size": 10,
              "solidity": 0.2
             }
            },
            "type": "histogram"
           }
          ],
          "histogram2d": [
           {
            "colorbar": {
             "outlinewidth": 0,
             "ticks": ""
            },
            "colorscale": [
             [
              0,
              "#0d0887"
             ],
             [
              0.1111111111111111,
              "#46039f"
             ],
             [
              0.2222222222222222,
              "#7201a8"
             ],
             [
              0.3333333333333333,
              "#9c179e"
             ],
             [
              0.4444444444444444,
              "#bd3786"
             ],
             [
              0.5555555555555556,
              "#d8576b"
             ],
             [
              0.6666666666666666,
              "#ed7953"
             ],
             [
              0.7777777777777778,
              "#fb9f3a"
             ],
             [
              0.8888888888888888,
              "#fdca26"
             ],
             [
              1,
              "#f0f921"
             ]
            ],
            "type": "histogram2d"
           }
          ],
          "histogram2dcontour": [
           {
            "colorbar": {
             "outlinewidth": 0,
             "ticks": ""
            },
            "colorscale": [
             [
              0,
              "#0d0887"
             ],
             [
              0.1111111111111111,
              "#46039f"
             ],
             [
              0.2222222222222222,
              "#7201a8"
             ],
             [
              0.3333333333333333,
              "#9c179e"
             ],
             [
              0.4444444444444444,
              "#bd3786"
             ],
             [
              0.5555555555555556,
              "#d8576b"
             ],
             [
              0.6666666666666666,
              "#ed7953"
             ],
             [
              0.7777777777777778,
              "#fb9f3a"
             ],
             [
              0.8888888888888888,
              "#fdca26"
             ],
             [
              1,
              "#f0f921"
             ]
            ],
            "type": "histogram2dcontour"
           }
          ],
          "mesh3d": [
           {
            "colorbar": {
             "outlinewidth": 0,
             "ticks": ""
            },
            "type": "mesh3d"
           }
          ],
          "parcoords": [
           {
            "line": {
             "colorbar": {
              "outlinewidth": 0,
              "ticks": ""
             }
            },
            "type": "parcoords"
           }
          ],
          "pie": [
           {
            "automargin": true,
            "type": "pie"
           }
          ],
          "scatter": [
           {
            "fillpattern": {
             "fillmode": "overlay",
             "size": 10,
             "solidity": 0.2
            },
            "type": "scatter"
           }
          ],
          "scatter3d": [
           {
            "line": {
             "colorbar": {
              "outlinewidth": 0,
              "ticks": ""
             }
            },
            "marker": {
             "colorbar": {
              "outlinewidth": 0,
              "ticks": ""
             }
            },
            "type": "scatter3d"
           }
          ],
          "scattercarpet": [
           {
            "marker": {
             "colorbar": {
              "outlinewidth": 0,
              "ticks": ""
             }
            },
            "type": "scattercarpet"
           }
          ],
          "scattergeo": [
           {
            "marker": {
             "colorbar": {
              "outlinewidth": 0,
              "ticks": ""
             }
            },
            "type": "scattergeo"
           }
          ],
          "scattergl": [
           {
            "marker": {
             "colorbar": {
              "outlinewidth": 0,
              "ticks": ""
             }
            },
            "type": "scattergl"
           }
          ],
          "scattermapbox": [
           {
            "marker": {
             "colorbar": {
              "outlinewidth": 0,
              "ticks": ""
             }
            },
            "type": "scattermapbox"
           }
          ],
          "scatterpolar": [
           {
            "marker": {
             "colorbar": {
              "outlinewidth": 0,
              "ticks": ""
             }
            },
            "type": "scatterpolar"
           }
          ],
          "scatterpolargl": [
           {
            "marker": {
             "colorbar": {
              "outlinewidth": 0,
              "ticks": ""
             }
            },
            "type": "scatterpolargl"
           }
          ],
          "scatterternary": [
           {
            "marker": {
             "colorbar": {
              "outlinewidth": 0,
              "ticks": ""
             }
            },
            "type": "scatterternary"
           }
          ],
          "surface": [
           {
            "colorbar": {
             "outlinewidth": 0,
             "ticks": ""
            },
            "colorscale": [
             [
              0,
              "#0d0887"
             ],
             [
              0.1111111111111111,
              "#46039f"
             ],
             [
              0.2222222222222222,
              "#7201a8"
             ],
             [
              0.3333333333333333,
              "#9c179e"
             ],
             [
              0.4444444444444444,
              "#bd3786"
             ],
             [
              0.5555555555555556,
              "#d8576b"
             ],
             [
              0.6666666666666666,
              "#ed7953"
             ],
             [
              0.7777777777777778,
              "#fb9f3a"
             ],
             [
              0.8888888888888888,
              "#fdca26"
             ],
             [
              1,
              "#f0f921"
             ]
            ],
            "type": "surface"
           }
          ],
          "table": [
           {
            "cells": {
             "fill": {
              "color": "#EBF0F8"
             },
             "line": {
              "color": "white"
             }
            },
            "header": {
             "fill": {
              "color": "#C8D4E3"
             },
             "line": {
              "color": "white"
             }
            },
            "type": "table"
           }
          ]
         },
         "layout": {
          "annotationdefaults": {
           "arrowcolor": "#2a3f5f",
           "arrowhead": 0,
           "arrowwidth": 1
          },
          "autotypenumbers": "strict",
          "coloraxis": {
           "colorbar": {
            "outlinewidth": 0,
            "ticks": ""
           }
          },
          "colorscale": {
           "diverging": [
            [
             0,
             "#8e0152"
            ],
            [
             0.1,
             "#c51b7d"
            ],
            [
             0.2,
             "#de77ae"
            ],
            [
             0.3,
             "#f1b6da"
            ],
            [
             0.4,
             "#fde0ef"
            ],
            [
             0.5,
             "#f7f7f7"
            ],
            [
             0.6,
             "#e6f5d0"
            ],
            [
             0.7,
             "#b8e186"
            ],
            [
             0.8,
             "#7fbc41"
            ],
            [
             0.9,
             "#4d9221"
            ],
            [
             1,
             "#276419"
            ]
           ],
           "sequential": [
            [
             0,
             "#0d0887"
            ],
            [
             0.1111111111111111,
             "#46039f"
            ],
            [
             0.2222222222222222,
             "#7201a8"
            ],
            [
             0.3333333333333333,
             "#9c179e"
            ],
            [
             0.4444444444444444,
             "#bd3786"
            ],
            [
             0.5555555555555556,
             "#d8576b"
            ],
            [
             0.6666666666666666,
             "#ed7953"
            ],
            [
             0.7777777777777778,
             "#fb9f3a"
            ],
            [
             0.8888888888888888,
             "#fdca26"
            ],
            [
             1,
             "#f0f921"
            ]
           ],
           "sequentialminus": [
            [
             0,
             "#0d0887"
            ],
            [
             0.1111111111111111,
             "#46039f"
            ],
            [
             0.2222222222222222,
             "#7201a8"
            ],
            [
             0.3333333333333333,
             "#9c179e"
            ],
            [
             0.4444444444444444,
             "#bd3786"
            ],
            [
             0.5555555555555556,
             "#d8576b"
            ],
            [
             0.6666666666666666,
             "#ed7953"
            ],
            [
             0.7777777777777778,
             "#fb9f3a"
            ],
            [
             0.8888888888888888,
             "#fdca26"
            ],
            [
             1,
             "#f0f921"
            ]
           ]
          },
          "colorway": [
           "#636efa",
           "#EF553B",
           "#00cc96",
           "#ab63fa",
           "#FFA15A",
           "#19d3f3",
           "#FF6692",
           "#B6E880",
           "#FF97FF",
           "#FECB52"
          ],
          "font": {
           "color": "#2a3f5f"
          },
          "geo": {
           "bgcolor": "white",
           "lakecolor": "white",
           "landcolor": "#E5ECF6",
           "showlakes": true,
           "showland": true,
           "subunitcolor": "white"
          },
          "hoverlabel": {
           "align": "left"
          },
          "hovermode": "closest",
          "mapbox": {
           "style": "light"
          },
          "paper_bgcolor": "white",
          "plot_bgcolor": "#E5ECF6",
          "polar": {
           "angularaxis": {
            "gridcolor": "white",
            "linecolor": "white",
            "ticks": ""
           },
           "bgcolor": "#E5ECF6",
           "radialaxis": {
            "gridcolor": "white",
            "linecolor": "white",
            "ticks": ""
           }
          },
          "scene": {
           "xaxis": {
            "backgroundcolor": "#E5ECF6",
            "gridcolor": "white",
            "gridwidth": 2,
            "linecolor": "white",
            "showbackground": true,
            "ticks": "",
            "zerolinecolor": "white"
           },
           "yaxis": {
            "backgroundcolor": "#E5ECF6",
            "gridcolor": "white",
            "gridwidth": 2,
            "linecolor": "white",
            "showbackground": true,
            "ticks": "",
            "zerolinecolor": "white"
           },
           "zaxis": {
            "backgroundcolor": "#E5ECF6",
            "gridcolor": "white",
            "gridwidth": 2,
            "linecolor": "white",
            "showbackground": true,
            "ticks": "",
            "zerolinecolor": "white"
           }
          },
          "shapedefaults": {
           "line": {
            "color": "#2a3f5f"
           }
          },
          "ternary": {
           "aaxis": {
            "gridcolor": "white",
            "linecolor": "white",
            "ticks": ""
           },
           "baxis": {
            "gridcolor": "white",
            "linecolor": "white",
            "ticks": ""
           },
           "bgcolor": "#E5ECF6",
           "caxis": {
            "gridcolor": "white",
            "linecolor": "white",
            "ticks": ""
           }
          },
          "title": {
           "x": 0.05
          },
          "xaxis": {
           "automargin": true,
           "gridcolor": "white",
           "linecolor": "white",
           "ticks": "",
           "title": {
            "standoff": 15
           },
           "zerolinecolor": "white",
           "zerolinewidth": 2
          },
          "yaxis": {
           "automargin": true,
           "gridcolor": "white",
           "linecolor": "white",
           "ticks": "",
           "title": {
            "standoff": 15
           },
           "zerolinecolor": "white",
           "zerolinewidth": 2
          }
         }
        },
        "title": {
         "text": "<span style='\n        color: #666666;\n        font-size: 24px;\n        font-weight: 900;\n    '>Urban Expansion in Houston, TX</span>",
         "x": 0.5
        }
       },
       "_py2js_addTraces": {},
       "_py2js_animate": {},
       "_py2js_deleteTraces": {},
       "_py2js_moveTraces": {},
       "_py2js_removeLayoutProps": {},
       "_py2js_removeTraceProps": {},
       "_py2js_restyle": {},
       "_view_count": 1
      }
     },
     "3f2fc1e91c2c4dcf8176af36b0f1cfa3": {
      "model_module": "@jupyter-widgets/controls",
      "model_module_version": "1.5.0",
      "model_name": "VBoxModel",
      "state": {
       "children": [
        "IPY_MODEL_b7b916cd95fc46aa8cc9ced8217ce6f8"
       ],
       "layout": "IPY_MODEL_bc25acfe1afd4d9fa7e6102e5d5b1469"
      }
     },
     "3f9139ee43fe4a46b44493fde912da60": {
      "model_module": "@jupyter-widgets/controls",
      "model_module_version": "1.5.0",
      "model_name": "ButtonStyleModel",
      "state": {
       "button_color": "#1b9d0c"
      }
     },
     "3fece873467f4670b03fc0801dcd0801": {
      "model_module": "@jupyter-widgets/controls",
      "model_module_version": "1.5.0",
      "model_name": "ButtonModel",
      "state": {
       "layout": "IPY_MODEL_9fbe38951e8a4a60aa7e025153f3d995",
       "style": "IPY_MODEL_a793b4dac3a0456dbb38d102a82a3799",
       "tooltip": "Agriculture"
      }
     },
     "41c371aea308430bad1829c1f7087e99": {
      "model_module": "@jupyter-widgets/base",
      "model_module_version": "1.2.0",
      "model_name": "LayoutModel",
      "state": {
       "border": "1px dashed #1b9d0c",
       "height": "24px",
       "width": "24px"
      }
     },
     "434867a694bb4247a213a7e18a0060ca": {
      "model_module": "@jupyter-widgets/controls",
      "model_module_version": "1.5.0",
      "model_name": "ButtonModel",
      "state": {
       "icon": "external-link",
       "layout": "IPY_MODEL_76ad8c7c137c4f5fb66d02b768d68473",
       "style": "IPY_MODEL_47c1fa8bfba34d0196a9edbd3dae14ee",
       "tooltip": "Open in new tab"
      }
     },
     "45fe594592254e8f9e7fa38fc90b010a": {
      "model_module": "jupyterlab-plotly",
      "model_module_version": "^5.9.0",
      "model_name": "FigureModel",
      "state": {
       "_config": {
        "plotlyServerURL": "https://plot.ly"
       },
       "_data": [
        {
         "arrangement": "snap",
         "link": {
          "color": "rgba(0, 180, 255, 0.1)",
          "customdata": [
           "<b>43%</b> of <b>Agriculture</b> remained <b>Agriculture</b>",
           "<b>39%</b> of <b>Agriculture</b> became <b>Developed</b>",
           "<b>13%</b> of <b>Agriculture</b> became <b>Forest</b>",
           "<b>4%</b> of <b>Agriculture</b> became <b>Rangeland or Pasture</b>",
           "<b>3%</b> of <b>Developed</b> became <b>Agriculture</b>",
           "<b>78%</b> of <b>Developed</b> remained <b>Developed</b>",
           "<b>9%</b> of <b>Developed</b> became <b>Forest</b>",
           "<b>3%</b> of <b>Developed</b> became <b>Other</b>",
           "<b>6%</b> of <b>Developed</b> became <b>Rangeland or Pasture</b>",
           "<b>3%</b> of <b>Forest</b> became <b>Agriculture</b>",
           "<b>41%</b> of <b>Forest</b> became <b>Developed</b>",
           "<b>41%</b> of <b>Forest</b> remained <b>Forest</b>",
           "<b>14%</b> of <b>Forest</b> became <b>Rangeland or Pasture</b>",
           "<b>100%</b> of <b>Other</b> became <b>Developed</b>",
           "<b>20%</b> of <b>Rangeland or Pasture</b> became <b>Agriculture</b>",
           "<b>20%</b> of <b>Rangeland or Pasture</b> became <b>Developed</b>",
           "<b>13%</b> of <b>Rangeland or Pasture</b> became <b>Forest</b>",
           "<b>47%</b> of <b>Rangeland or Pasture</b> remained <b>Rangeland or Pasture</b>"
          ],
          "hovertemplate": "%{customdata} <extra></extra>",
          "source": [
           0,
           0,
           0,
           0,
           1,
           1,
           1,
           1,
           1,
           2,
           2,
           2,
           2,
           3,
           4,
           4,
           4,
           4
          ],
          "target": [
           5,
           6,
           7,
           8,
           5,
           6,
           7,
           9,
           8,
           5,
           6,
           7,
           8,
           6,
           5,
           6,
           7,
           8
          ],
          "value": [
           10,
           9,
           3,
           1,
           1,
           25,
           3,
           1,
           2,
           1,
           12,
           12,
           4,
           1,
           3,
           3,
           2,
           7
          ]
         },
         "node": {
          "color": [
           "#efff6b",
           "#ff2ff8",
           "#1b9d0c",
           "#a1a1a1",
           "#c2b34a",
           "#efff6b",
           "#ff2ff8",
           "#1b9d0c",
           "#c2b34a",
           "#a1a1a1"
          ],
          "customdata": [
           "1986",
           "1986",
           "1986",
           "1986",
           "1986",
           "2020",
           "2020",
           "2020",
           "2020",
           "2020"
          ],
          "hovertemplate": "<b>%{customdata}</b><extra></extra>",
          "label": [
           "<span style='\n    font-style: italic;\n    font-size: 18px;\n    color: #4e6980;\n    letter-spacing: 2px;\n'>Agriculture</span>",
           "<span style='\n    font-style: italic;\n    font-size: 18px;\n    color: #4e6980;\n    letter-spacing: 2px;\n'>Developed</span>",
           "<span style='\n    font-style: italic;\n    font-size: 18px;\n    color: #4e6980;\n    letter-spacing: 2px;\n'>Forest</span>",
           "<span style='\n    font-style: italic;\n    font-size: 18px;\n    color: #4e6980;\n    letter-spacing: 2px;\n'>Other</span>",
           "<span style='\n    font-style: italic;\n    font-size: 18px;\n    color: #4e6980;\n    letter-spacing: 2px;\n'>Rangeland or Pasture</span>",
           "<span style='\n    font-style: italic;\n    font-size: 18px;\n    color: #4e6980;\n    letter-spacing: 2px;\n'>Agriculture</span>",
           "<span style='\n    font-style: italic;\n    font-size: 18px;\n    color: #4e6980;\n    letter-spacing: 2px;\n'>Developed</span>",
           "<span style='\n    font-style: italic;\n    font-size: 18px;\n    color: #4e6980;\n    letter-spacing: 2px;\n'>Forest</span>",
           "<span style='\n    font-style: italic;\n    font-size: 18px;\n    color: #4e6980;\n    letter-spacing: 2px;\n'>Rangeland or Pasture</span>",
           "<span style='\n    font-style: italic;\n    font-size: 18px;\n    color: #4e6980;\n    letter-spacing: 2px;\n'>Other</span>"
          ],
          "line": {
           "color": "#628eb3",
           "width": 4
          },
          "pad": 100,
          "thickness": 100
         },
         "type": "sankey",
         "uid": "91d739d5-e1a4-4252-b819-157c880d26aa"
        }
       ],
       "_js2py_pointsCallback": {},
       "_js2py_restyle": {},
       "_js2py_update": {},
       "_last_layout_edit_id": 2,
       "_last_trace_edit_id": 1,
       "_layout": {
        "autosize": true,
        "font": {
         "size": 16
        },
        "paper_bgcolor": "rgba(0, 0, 0, 0)",
        "template": {
         "data": {
          "bar": [
           {
            "error_x": {
             "color": "#2a3f5f"
            },
            "error_y": {
             "color": "#2a3f5f"
            },
            "marker": {
             "line": {
              "color": "#E5ECF6",
              "width": 0.5
             },
             "pattern": {
              "fillmode": "overlay",
              "size": 10,
              "solidity": 0.2
             }
            },
            "type": "bar"
           }
          ],
          "barpolar": [
           {
            "marker": {
             "line": {
              "color": "#E5ECF6",
              "width": 0.5
             },
             "pattern": {
              "fillmode": "overlay",
              "size": 10,
              "solidity": 0.2
             }
            },
            "type": "barpolar"
           }
          ],
          "carpet": [
           {
            "aaxis": {
             "endlinecolor": "#2a3f5f",
             "gridcolor": "white",
             "linecolor": "white",
             "minorgridcolor": "white",
             "startlinecolor": "#2a3f5f"
            },
            "baxis": {
             "endlinecolor": "#2a3f5f",
             "gridcolor": "white",
             "linecolor": "white",
             "minorgridcolor": "white",
             "startlinecolor": "#2a3f5f"
            },
            "type": "carpet"
           }
          ],
          "choropleth": [
           {
            "colorbar": {
             "outlinewidth": 0,
             "ticks": ""
            },
            "type": "choropleth"
           }
          ],
          "contour": [
           {
            "colorbar": {
             "outlinewidth": 0,
             "ticks": ""
            },
            "colorscale": [
             [
              0,
              "#0d0887"
             ],
             [
              0.1111111111111111,
              "#46039f"
             ],
             [
              0.2222222222222222,
              "#7201a8"
             ],
             [
              0.3333333333333333,
              "#9c179e"
             ],
             [
              0.4444444444444444,
              "#bd3786"
             ],
             [
              0.5555555555555556,
              "#d8576b"
             ],
             [
              0.6666666666666666,
              "#ed7953"
             ],
             [
              0.7777777777777778,
              "#fb9f3a"
             ],
             [
              0.8888888888888888,
              "#fdca26"
             ],
             [
              1,
              "#f0f921"
             ]
            ],
            "type": "contour"
           }
          ],
          "contourcarpet": [
           {
            "colorbar": {
             "outlinewidth": 0,
             "ticks": ""
            },
            "type": "contourcarpet"
           }
          ],
          "heatmap": [
           {
            "colorbar": {
             "outlinewidth": 0,
             "ticks": ""
            },
            "colorscale": [
             [
              0,
              "#0d0887"
             ],
             [
              0.1111111111111111,
              "#46039f"
             ],
             [
              0.2222222222222222,
              "#7201a8"
             ],
             [
              0.3333333333333333,
              "#9c179e"
             ],
             [
              0.4444444444444444,
              "#bd3786"
             ],
             [
              0.5555555555555556,
              "#d8576b"
             ],
             [
              0.6666666666666666,
              "#ed7953"
             ],
             [
              0.7777777777777778,
              "#fb9f3a"
             ],
             [
              0.8888888888888888,
              "#fdca26"
             ],
             [
              1,
              "#f0f921"
             ]
            ],
            "type": "heatmap"
           }
          ],
          "heatmapgl": [
           {
            "colorbar": {
             "outlinewidth": 0,
             "ticks": ""
            },
            "colorscale": [
             [
              0,
              "#0d0887"
             ],
             [
              0.1111111111111111,
              "#46039f"
             ],
             [
              0.2222222222222222,
              "#7201a8"
             ],
             [
              0.3333333333333333,
              "#9c179e"
             ],
             [
              0.4444444444444444,
              "#bd3786"
             ],
             [
              0.5555555555555556,
              "#d8576b"
             ],
             [
              0.6666666666666666,
              "#ed7953"
             ],
             [
              0.7777777777777778,
              "#fb9f3a"
             ],
             [
              0.8888888888888888,
              "#fdca26"
             ],
             [
              1,
              "#f0f921"
             ]
            ],
            "type": "heatmapgl"
           }
          ],
          "histogram": [
           {
            "marker": {
             "pattern": {
              "fillmode": "overlay",
              "size": 10,
              "solidity": 0.2
             }
            },
            "type": "histogram"
           }
          ],
          "histogram2d": [
           {
            "colorbar": {
             "outlinewidth": 0,
             "ticks": ""
            },
            "colorscale": [
             [
              0,
              "#0d0887"
             ],
             [
              0.1111111111111111,
              "#46039f"
             ],
             [
              0.2222222222222222,
              "#7201a8"
             ],
             [
              0.3333333333333333,
              "#9c179e"
             ],
             [
              0.4444444444444444,
              "#bd3786"
             ],
             [
              0.5555555555555556,
              "#d8576b"
             ],
             [
              0.6666666666666666,
              "#ed7953"
             ],
             [
              0.7777777777777778,
              "#fb9f3a"
             ],
             [
              0.8888888888888888,
              "#fdca26"
             ],
             [
              1,
              "#f0f921"
             ]
            ],
            "type": "histogram2d"
           }
          ],
          "histogram2dcontour": [
           {
            "colorbar": {
             "outlinewidth": 0,
             "ticks": ""
            },
            "colorscale": [
             [
              0,
              "#0d0887"
             ],
             [
              0.1111111111111111,
              "#46039f"
             ],
             [
              0.2222222222222222,
              "#7201a8"
             ],
             [
              0.3333333333333333,
              "#9c179e"
             ],
             [
              0.4444444444444444,
              "#bd3786"
             ],
             [
              0.5555555555555556,
              "#d8576b"
             ],
             [
              0.6666666666666666,
              "#ed7953"
             ],
             [
              0.7777777777777778,
              "#fb9f3a"
             ],
             [
              0.8888888888888888,
              "#fdca26"
             ],
             [
              1,
              "#f0f921"
             ]
            ],
            "type": "histogram2dcontour"
           }
          ],
          "mesh3d": [
           {
            "colorbar": {
             "outlinewidth": 0,
             "ticks": ""
            },
            "type": "mesh3d"
           }
          ],
          "parcoords": [
           {
            "line": {
             "colorbar": {
              "outlinewidth": 0,
              "ticks": ""
             }
            },
            "type": "parcoords"
           }
          ],
          "pie": [
           {
            "automargin": true,
            "type": "pie"
           }
          ],
          "scatter": [
           {
            "fillpattern": {
             "fillmode": "overlay",
             "size": 10,
             "solidity": 0.2
            },
            "type": "scatter"
           }
          ],
          "scatter3d": [
           {
            "line": {
             "colorbar": {
              "outlinewidth": 0,
              "ticks": ""
             }
            },
            "marker": {
             "colorbar": {
              "outlinewidth": 0,
              "ticks": ""
             }
            },
            "type": "scatter3d"
           }
          ],
          "scattercarpet": [
           {
            "marker": {
             "colorbar": {
              "outlinewidth": 0,
              "ticks": ""
             }
            },
            "type": "scattercarpet"
           }
          ],
          "scattergeo": [
           {
            "marker": {
             "colorbar": {
              "outlinewidth": 0,
              "ticks": ""
             }
            },
            "type": "scattergeo"
           }
          ],
          "scattergl": [
           {
            "marker": {
             "colorbar": {
              "outlinewidth": 0,
              "ticks": ""
             }
            },
            "type": "scattergl"
           }
          ],
          "scattermapbox": [
           {
            "marker": {
             "colorbar": {
              "outlinewidth": 0,
              "ticks": ""
             }
            },
            "type": "scattermapbox"
           }
          ],
          "scatterpolar": [
           {
            "marker": {
             "colorbar": {
              "outlinewidth": 0,
              "ticks": ""
             }
            },
            "type": "scatterpolar"
           }
          ],
          "scatterpolargl": [
           {
            "marker": {
             "colorbar": {
              "outlinewidth": 0,
              "ticks": ""
             }
            },
            "type": "scatterpolargl"
           }
          ],
          "scatterternary": [
           {
            "marker": {
             "colorbar": {
              "outlinewidth": 0,
              "ticks": ""
             }
            },
            "type": "scatterternary"
           }
          ],
          "surface": [
           {
            "colorbar": {
             "outlinewidth": 0,
             "ticks": ""
            },
            "colorscale": [
             [
              0,
              "#0d0887"
             ],
             [
              0.1111111111111111,
              "#46039f"
             ],
             [
              0.2222222222222222,
              "#7201a8"
             ],
             [
              0.3333333333333333,
              "#9c179e"
             ],
             [
              0.4444444444444444,
              "#bd3786"
             ],
             [
              0.5555555555555556,
              "#d8576b"
             ],
             [
              0.6666666666666666,
              "#ed7953"
             ],
             [
              0.7777777777777778,
              "#fb9f3a"
             ],
             [
              0.8888888888888888,
              "#fdca26"
             ],
             [
              1,
              "#f0f921"
             ]
            ],
            "type": "surface"
           }
          ],
          "table": [
           {
            "cells": {
             "fill": {
              "color": "#EBF0F8"
             },
             "line": {
              "color": "white"
             }
            },
            "header": {
             "fill": {
              "color": "#C8D4E3"
             },
             "line": {
              "color": "white"
             }
            },
            "type": "table"
           }
          ]
         },
         "layout": {
          "annotationdefaults": {
           "arrowcolor": "#2a3f5f",
           "arrowhead": 0,
           "arrowwidth": 1
          },
          "autotypenumbers": "strict",
          "coloraxis": {
           "colorbar": {
            "outlinewidth": 0,
            "ticks": ""
           }
          },
          "colorscale": {
           "diverging": [
            [
             0,
             "#8e0152"
            ],
            [
             0.1,
             "#c51b7d"
            ],
            [
             0.2,
             "#de77ae"
            ],
            [
             0.3,
             "#f1b6da"
            ],
            [
             0.4,
             "#fde0ef"
            ],
            [
             0.5,
             "#f7f7f7"
            ],
            [
             0.6,
             "#e6f5d0"
            ],
            [
             0.7,
             "#b8e186"
            ],
            [
             0.8,
             "#7fbc41"
            ],
            [
             0.9,
             "#4d9221"
            ],
            [
             1,
             "#276419"
            ]
           ],
           "sequential": [
            [
             0,
             "#0d0887"
            ],
            [
             0.1111111111111111,
             "#46039f"
            ],
            [
             0.2222222222222222,
             "#7201a8"
            ],
            [
             0.3333333333333333,
             "#9c179e"
            ],
            [
             0.4444444444444444,
             "#bd3786"
            ],
            [
             0.5555555555555556,
             "#d8576b"
            ],
            [
             0.6666666666666666,
             "#ed7953"
            ],
            [
             0.7777777777777778,
             "#fb9f3a"
            ],
            [
             0.8888888888888888,
             "#fdca26"
            ],
            [
             1,
             "#f0f921"
            ]
           ],
           "sequentialminus": [
            [
             0,
             "#0d0887"
            ],
            [
             0.1111111111111111,
             "#46039f"
            ],
            [
             0.2222222222222222,
             "#7201a8"
            ],
            [
             0.3333333333333333,
             "#9c179e"
            ],
            [
             0.4444444444444444,
             "#bd3786"
            ],
            [
             0.5555555555555556,
             "#d8576b"
            ],
            [
             0.6666666666666666,
             "#ed7953"
            ],
            [
             0.7777777777777778,
             "#fb9f3a"
            ],
            [
             0.8888888888888888,
             "#fdca26"
            ],
            [
             1,
             "#f0f921"
            ]
           ]
          },
          "colorway": [
           "#636efa",
           "#EF553B",
           "#00cc96",
           "#ab63fa",
           "#FFA15A",
           "#19d3f3",
           "#FF6692",
           "#B6E880",
           "#FF97FF",
           "#FECB52"
          ],
          "font": {
           "color": "#2a3f5f"
          },
          "geo": {
           "bgcolor": "white",
           "lakecolor": "white",
           "landcolor": "#E5ECF6",
           "showlakes": true,
           "showland": true,
           "subunitcolor": "white"
          },
          "hoverlabel": {
           "align": "left"
          },
          "hovermode": "closest",
          "mapbox": {
           "style": "light"
          },
          "paper_bgcolor": "white",
          "plot_bgcolor": "#E5ECF6",
          "polar": {
           "angularaxis": {
            "gridcolor": "white",
            "linecolor": "white",
            "ticks": ""
           },
           "bgcolor": "#E5ECF6",
           "radialaxis": {
            "gridcolor": "white",
            "linecolor": "white",
            "ticks": ""
           }
          },
          "scene": {
           "xaxis": {
            "backgroundcolor": "#E5ECF6",
            "gridcolor": "white",
            "gridwidth": 2,
            "linecolor": "white",
            "showbackground": true,
            "ticks": "",
            "zerolinecolor": "white"
           },
           "yaxis": {
            "backgroundcolor": "#E5ECF6",
            "gridcolor": "white",
            "gridwidth": 2,
            "linecolor": "white",
            "showbackground": true,
            "ticks": "",
            "zerolinecolor": "white"
           },
           "zaxis": {
            "backgroundcolor": "#E5ECF6",
            "gridcolor": "white",
            "gridwidth": 2,
            "linecolor": "white",
            "showbackground": true,
            "ticks": "",
            "zerolinecolor": "white"
           }
          },
          "shapedefaults": {
           "line": {
            "color": "#2a3f5f"
           }
          },
          "ternary": {
           "aaxis": {
            "gridcolor": "white",
            "linecolor": "white",
            "ticks": ""
           },
           "baxis": {
            "gridcolor": "white",
            "linecolor": "white",
            "ticks": ""
           },
           "bgcolor": "#E5ECF6",
           "caxis": {
            "gridcolor": "white",
            "linecolor": "white",
            "ticks": ""
           }
          },
          "title": {
           "x": 0.05
          },
          "xaxis": {
           "automargin": true,
           "gridcolor": "white",
           "linecolor": "white",
           "ticks": "",
           "title": {
            "standoff": 15
           },
           "zerolinecolor": "white",
           "zerolinewidth": 2
          },
          "yaxis": {
           "automargin": true,
           "gridcolor": "white",
           "linecolor": "white",
           "ticks": "",
           "title": {
            "standoff": 15
           },
           "zerolinecolor": "white",
           "zerolinewidth": 2
          }
         }
        },
        "title": {
         "text": "<span style='\n    font-size: 24px;\n    font-weight: 900;\n    font-variant: small-caps;\n    color: #4e6980;\n'>Urban Expansion in Houston, TX</span>",
         "x": 0.5
        }
       },
       "_py2js_addTraces": {},
       "_py2js_animate": {},
       "_py2js_deleteTraces": {},
       "_py2js_moveTraces": {},
       "_py2js_removeLayoutProps": {},
       "_py2js_removeTraceProps": {},
       "_py2js_restyle": {},
       "_view_count": 1
      }
     },
     "47c1fa8bfba34d0196a9edbd3dae14ee": {
      "model_module": "@jupyter-widgets/controls",
      "model_module_version": "1.5.0",
      "model_name": "ButtonStyleModel",
      "state": {}
     },
     "4e6c5528a3844c158e5f7865ec3a5052": {
      "model_module": "@jupyter-widgets/base",
      "model_module_version": "1.2.0",
      "model_name": "LayoutModel",
      "state": {}
     },
     "4ffd7fd5073c46419252c7eb989a8da4": {
      "model_module": "@jupyter-widgets/controls",
      "model_module_version": "1.5.0",
      "model_name": "VBoxModel",
      "state": {
       "children": [
        "IPY_MODEL_f004f9546da44dee992187f8ef88cb5f"
       ],
       "layout": "IPY_MODEL_321cb9ff0a29441cbee4f9df3838a517"
      }
     },
     "51d7b71cad394d71b8c82f0f5829477e": {
      "model_module": "@jupyter-widgets/base",
      "model_module_version": "1.2.0",
      "model_name": "LayoutModel",
      "state": {
       "border": "1px dashed #a1a1a1",
       "height": "24px",
       "width": "24px"
      }
     },
     "533f8815599c464b83f68b0770ab31f4": {
      "model_module": "@jupyter-widgets/base",
      "model_module_version": "1.2.0",
      "model_name": "LayoutModel",
      "state": {
       "height": "24px",
       "padding": "0 0 0 3px",
       "width": "24px"
      }
     },
     "58810f38738d4bb88d3c74316c5ee9b9": {
      "model_module": "@jupyter-widgets/base",
      "model_module_version": "1.2.0",
      "model_name": "LayoutModel",
      "state": {}
     },
     "59df8ac6aeff4c0ebfea391f5172065f": {
      "model_module": "@jupyter-widgets/controls",
      "model_module_version": "1.5.0",
      "model_name": "ButtonModel",
      "state": {
       "icon": "refresh",
       "layout": "IPY_MODEL_a3a8fdc76e604000972b10b70e0cc824",
       "style": "IPY_MODEL_e8f83abf911842bd84e3fdd9701b4cef",
       "tooltip": "Reset plot"
      }
     },
     "5a013959fd6649ca9b5fa1a399c1147a": {
      "model_module": "@jupyter-widgets/base",
      "model_module_version": "1.2.0",
      "model_name": "LayoutModel",
      "state": {}
     },
     "5aafdc5f1ec349aaa327d1b07f1964bf": {
      "model_module": "@jupyter-widgets/controls",
      "model_module_version": "1.5.0",
      "model_name": "ButtonModel",
      "state": {
       "icon": "refresh",
       "layout": "IPY_MODEL_cace6d966c724c5cadf6418aad1ba651",
       "style": "IPY_MODEL_8fcd19f4bde1431f8375d63ac1cd781a",
       "tooltip": "Reset plot"
      }
     },
     "5d2d71f0e13e49289e3b8bde667ad994": {
      "model_module": "@jupyter-widgets/controls",
      "model_module_version": "1.5.0",
      "model_name": "ButtonModel",
      "state": {
       "layout": "IPY_MODEL_d2f7e453f71942ea898df1be2c86b790",
       "style": "IPY_MODEL_2d868c76d51d4759a283daac8865fcaf",
       "tooltip": "Rangeland or Pasture"
      }
     },
     "605ff92301d34debbc658cd6c9ca97f6": {
      "model_module": "@jupyter-widgets/controls",
      "model_module_version": "1.5.0",
      "model_name": "ButtonModel",
      "state": {
       "layout": "IPY_MODEL_3b4101c6e0424a3cb0276c11c4c9f4c1",
       "style": "IPY_MODEL_ec5a217092cb4fd98735962c350a8a30",
       "tooltip": "Forest"
      }
     },
     "60de40fee0994484b1be623813d076e2": {
      "model_module": "@jupyter-widgets/controls",
      "model_module_version": "1.5.0",
      "model_name": "ButtonModel",
      "state": {
       "layout": "IPY_MODEL_1ef5afad5d9d4f40986e457d99f86a36",
       "style": "IPY_MODEL_ab58e36373f546669bcd10f35078281e",
       "tooltip": "Agriculture"
      }
     },
     "62f8624a5a1a46a8bceae646fc9b9e61": {
      "model_module": "@jupyter-widgets/controls",
      "model_module_version": "1.5.0",
      "model_name": "ButtonStyleModel",
      "state": {
       "button_color": "#a1a1a1"
      }
     },
     "639a0483fd6542ffa2e541712e2c5993": {
      "model_module": "@jupyter-widgets/base",
      "model_module_version": "1.2.0",
      "model_name": "LayoutModel",
      "state": {}
     },
     "6444b12c30f548d29a1f2f925dce5090": {
      "model_module": "@jupyter-widgets/controls",
      "model_module_version": "1.5.0",
      "model_name": "ButtonStyleModel",
      "state": {}
     },
     "6560523614fb45faa59d3b27d7c02908": {
      "model_module": "@jupyter-widgets/controls",
      "model_module_version": "1.5.0",
      "model_name": "HBoxModel",
      "state": {
       "children": [
        "IPY_MODEL_7f34edbf6e9246f1bd7d49d72d583b5a",
        "IPY_MODEL_d84843d557a146a4ad776a9955ff31ea",
        "IPY_MODEL_6c338b7b80b54a039c67c6c7319c9890",
        "IPY_MODEL_6cdfe6abe7a946eca238b294246f0d29",
        "IPY_MODEL_74d57b9ad2cd4a29a25fcfac45836c2a",
        "IPY_MODEL_3133439ff02c4577ae106ec0d7b24479",
        "IPY_MODEL_da0cdcb11ab2455596e46e4f3ab3bfab",
        "IPY_MODEL_2c1756e37a314e8e89ca4248ac2c84a7"
       ],
       "layout": "IPY_MODEL_5a013959fd6649ca9b5fa1a399c1147a"
      }
     },
     "67160d3e405645da9ae021bc84b38887": {
      "model_module": "@jupyter-widgets/controls",
      "model_module_version": "1.5.0",
      "model_name": "ButtonStyleModel",
      "state": {
       "button_color": "#efff6b"
      }
     },
     "69408a516b2643fcb8799bab288f28b5": {
      "model_module": "@jupyter-widgets/base",
      "model_module_version": "1.2.0",
      "model_name": "LayoutModel",
      "state": {}
     },
     "6c338b7b80b54a039c67c6c7319c9890": {
      "model_module": "@jupyter-widgets/controls",
      "model_module_version": "1.5.0",
      "model_name": "ButtonModel",
      "state": {
       "layout": "IPY_MODEL_c9efcd5898194c6b934ea7ff6906eb3b",
       "style": "IPY_MODEL_67160d3e405645da9ae021bc84b38887",
       "tooltip": "Agriculture"
      }
     },
     "6cdfe6abe7a946eca238b294246f0d29": {
      "model_module": "@jupyter-widgets/controls",
      "model_module_version": "1.5.0",
      "model_name": "ButtonModel",
      "state": {
       "layout": "IPY_MODEL_2ea4a3dc2fd74364992909061be62f04",
       "style": "IPY_MODEL_76cd7862535142419c08a0d515d6ecb3",
       "tooltip": "Rangeland or Pasture"
      }
     },
     "6d59e23719584ffe8eea42e6ae843033": {
      "model_module": "@jupyter-widgets/base",
      "model_module_version": "1.2.0",
      "model_name": "LayoutModel",
      "state": {}
     },
     "7260821641ea41aca67cd7059577b244": {
      "model_module": "jupyterlab-plotly",
      "model_module_version": "^5.9.0",
      "model_name": "FigureModel",
      "state": {
       "_config": {
        "plotlyServerURL": "https://plot.ly"
       },
       "_data": [
        {
         "arrangement": "snap",
         "link": {
          "color": "rgba(120, 120, 120, 0.25)",
          "customdata": [
           "<b>43%</b> of <b>Agriculture</b> remained <b>Agriculture</b>",
           "<b>39%</b> of <b>Agriculture</b> became <b>Developed</b>",
           "<b>13%</b> of <b>Agriculture</b> became <b>Forest</b>",
           "<b>4%</b> of <b>Agriculture</b> became <b>Rangeland or Pasture</b>",
           "<b>3%</b> of <b>Developed</b> became <b>Agriculture</b>",
           "<b>78%</b> of <b>Developed</b> remained <b>Developed</b>",
           "<b>9%</b> of <b>Developed</b> became <b>Forest</b>",
           "<b>3%</b> of <b>Developed</b> became <b>Other</b>",
           "<b>6%</b> of <b>Developed</b> became <b>Rangeland or Pasture</b>",
           "<b>3%</b> of <b>Forest</b> became <b>Agriculture</b>",
           "<b>41%</b> of <b>Forest</b> became <b>Developed</b>",
           "<b>41%</b> of <b>Forest</b> remained <b>Forest</b>",
           "<b>14%</b> of <b>Forest</b> became <b>Rangeland or Pasture</b>",
           "<b>100%</b> of <b>Other</b> became <b>Developed</b>",
           "<b>20%</b> of <b>Rangeland or Pasture</b> became <b>Agriculture</b>",
           "<b>20%</b> of <b>Rangeland or Pasture</b> became <b>Developed</b>",
           "<b>13%</b> of <b>Rangeland or Pasture</b> became <b>Forest</b>",
           "<b>47%</b> of <b>Rangeland or Pasture</b> remained <b>Rangeland or Pasture</b>"
          ],
          "hovertemplate": "%{customdata} <extra></extra>",
          "source": [
           0,
           0,
           0,
           0,
           1,
           1,
           1,
           1,
           1,
           2,
           2,
           2,
           2,
           3,
           4,
           4,
           4,
           4
          ],
          "target": [
           5,
           6,
           7,
           8,
           5,
           6,
           7,
           9,
           8,
           5,
           6,
           7,
           8,
           6,
           5,
           6,
           7,
           8
          ],
          "value": [
           10,
           9,
           3,
           1,
           1,
           25,
           3,
           1,
           2,
           1,
           12,
           12,
           4,
           1,
           3,
           3,
           2,
           7
          ]
         },
         "node": {
          "color": [
           "#efff6b",
           "#ff2ff8",
           "#1b9d0c",
           "#a1a1a1",
           "#c2b34a",
           "#efff6b",
           "#ff2ff8",
           "#1b9d0c",
           "#c2b34a",
           "#a1a1a1"
          ],
          "customdata": [
           "1986",
           "1986",
           "1986",
           "1986",
           "1986",
           "2020",
           "2020",
           "2020",
           "2020",
           "2020"
          ],
          "hovertemplate": "<b>%{customdata}</b><extra></extra>",
          "label": [
           "<span style='None'>Agriculture</span>",
           "<span style='None'>Developed</span>",
           "<span style='None'>Forest</span>",
           "<span style='None'>Other</span>",
           "<span style='None'>Rangeland or Pasture</span>",
           "<span style='None'>Agriculture</span>",
           "<span style='None'>Developed</span>",
           "<span style='None'>Forest</span>",
           "<span style='None'>Rangeland or Pasture</span>",
           "<span style='None'>Other</span>"
          ],
          "line": {
           "width": 1
          },
          "pad": 20,
          "thickness": 15
         },
         "type": "sankey",
         "uid": "3c775e36-24a7-40b3-91a2-2a771250baed"
        }
       ],
       "_js2py_pointsCallback": {},
       "_js2py_restyle": {},
       "_js2py_update": {},
       "_last_layout_edit_id": 2,
       "_last_trace_edit_id": 1,
       "_layout": {
        "autosize": true,
        "font": {
         "size": 16
        },
        "paper_bgcolor": "rgba(0, 0, 0, 0)",
        "template": {
         "data": {
          "bar": [
           {
            "error_x": {
             "color": "#2a3f5f"
            },
            "error_y": {
             "color": "#2a3f5f"
            },
            "marker": {
             "line": {
              "color": "#E5ECF6",
              "width": 0.5
             },
             "pattern": {
              "fillmode": "overlay",
              "size": 10,
              "solidity": 0.2
             }
            },
            "type": "bar"
           }
          ],
          "barpolar": [
           {
            "marker": {
             "line": {
              "color": "#E5ECF6",
              "width": 0.5
             },
             "pattern": {
              "fillmode": "overlay",
              "size": 10,
              "solidity": 0.2
             }
            },
            "type": "barpolar"
           }
          ],
          "carpet": [
           {
            "aaxis": {
             "endlinecolor": "#2a3f5f",
             "gridcolor": "white",
             "linecolor": "white",
             "minorgridcolor": "white",
             "startlinecolor": "#2a3f5f"
            },
            "baxis": {
             "endlinecolor": "#2a3f5f",
             "gridcolor": "white",
             "linecolor": "white",
             "minorgridcolor": "white",
             "startlinecolor": "#2a3f5f"
            },
            "type": "carpet"
           }
          ],
          "choropleth": [
           {
            "colorbar": {
             "outlinewidth": 0,
             "ticks": ""
            },
            "type": "choropleth"
           }
          ],
          "contour": [
           {
            "colorbar": {
             "outlinewidth": 0,
             "ticks": ""
            },
            "colorscale": [
             [
              0,
              "#0d0887"
             ],
             [
              0.1111111111111111,
              "#46039f"
             ],
             [
              0.2222222222222222,
              "#7201a8"
             ],
             [
              0.3333333333333333,
              "#9c179e"
             ],
             [
              0.4444444444444444,
              "#bd3786"
             ],
             [
              0.5555555555555556,
              "#d8576b"
             ],
             [
              0.6666666666666666,
              "#ed7953"
             ],
             [
              0.7777777777777778,
              "#fb9f3a"
             ],
             [
              0.8888888888888888,
              "#fdca26"
             ],
             [
              1,
              "#f0f921"
             ]
            ],
            "type": "contour"
           }
          ],
          "contourcarpet": [
           {
            "colorbar": {
             "outlinewidth": 0,
             "ticks": ""
            },
            "type": "contourcarpet"
           }
          ],
          "heatmap": [
           {
            "colorbar": {
             "outlinewidth": 0,
             "ticks": ""
            },
            "colorscale": [
             [
              0,
              "#0d0887"
             ],
             [
              0.1111111111111111,
              "#46039f"
             ],
             [
              0.2222222222222222,
              "#7201a8"
             ],
             [
              0.3333333333333333,
              "#9c179e"
             ],
             [
              0.4444444444444444,
              "#bd3786"
             ],
             [
              0.5555555555555556,
              "#d8576b"
             ],
             [
              0.6666666666666666,
              "#ed7953"
             ],
             [
              0.7777777777777778,
              "#fb9f3a"
             ],
             [
              0.8888888888888888,
              "#fdca26"
             ],
             [
              1,
              "#f0f921"
             ]
            ],
            "type": "heatmap"
           }
          ],
          "heatmapgl": [
           {
            "colorbar": {
             "outlinewidth": 0,
             "ticks": ""
            },
            "colorscale": [
             [
              0,
              "#0d0887"
             ],
             [
              0.1111111111111111,
              "#46039f"
             ],
             [
              0.2222222222222222,
              "#7201a8"
             ],
             [
              0.3333333333333333,
              "#9c179e"
             ],
             [
              0.4444444444444444,
              "#bd3786"
             ],
             [
              0.5555555555555556,
              "#d8576b"
             ],
             [
              0.6666666666666666,
              "#ed7953"
             ],
             [
              0.7777777777777778,
              "#fb9f3a"
             ],
             [
              0.8888888888888888,
              "#fdca26"
             ],
             [
              1,
              "#f0f921"
             ]
            ],
            "type": "heatmapgl"
           }
          ],
          "histogram": [
           {
            "marker": {
             "pattern": {
              "fillmode": "overlay",
              "size": 10,
              "solidity": 0.2
             }
            },
            "type": "histogram"
           }
          ],
          "histogram2d": [
           {
            "colorbar": {
             "outlinewidth": 0,
             "ticks": ""
            },
            "colorscale": [
             [
              0,
              "#0d0887"
             ],
             [
              0.1111111111111111,
              "#46039f"
             ],
             [
              0.2222222222222222,
              "#7201a8"
             ],
             [
              0.3333333333333333,
              "#9c179e"
             ],
             [
              0.4444444444444444,
              "#bd3786"
             ],
             [
              0.5555555555555556,
              "#d8576b"
             ],
             [
              0.6666666666666666,
              "#ed7953"
             ],
             [
              0.7777777777777778,
              "#fb9f3a"
             ],
             [
              0.8888888888888888,
              "#fdca26"
             ],
             [
              1,
              "#f0f921"
             ]
            ],
            "type": "histogram2d"
           }
          ],
          "histogram2dcontour": [
           {
            "colorbar": {
             "outlinewidth": 0,
             "ticks": ""
            },
            "colorscale": [
             [
              0,
              "#0d0887"
             ],
             [
              0.1111111111111111,
              "#46039f"
             ],
             [
              0.2222222222222222,
              "#7201a8"
             ],
             [
              0.3333333333333333,
              "#9c179e"
             ],
             [
              0.4444444444444444,
              "#bd3786"
             ],
             [
              0.5555555555555556,
              "#d8576b"
             ],
             [
              0.6666666666666666,
              "#ed7953"
             ],
             [
              0.7777777777777778,
              "#fb9f3a"
             ],
             [
              0.8888888888888888,
              "#fdca26"
             ],
             [
              1,
              "#f0f921"
             ]
            ],
            "type": "histogram2dcontour"
           }
          ],
          "mesh3d": [
           {
            "colorbar": {
             "outlinewidth": 0,
             "ticks": ""
            },
            "type": "mesh3d"
           }
          ],
          "parcoords": [
           {
            "line": {
             "colorbar": {
              "outlinewidth": 0,
              "ticks": ""
             }
            },
            "type": "parcoords"
           }
          ],
          "pie": [
           {
            "automargin": true,
            "type": "pie"
           }
          ],
          "scatter": [
           {
            "fillpattern": {
             "fillmode": "overlay",
             "size": 10,
             "solidity": 0.2
            },
            "type": "scatter"
           }
          ],
          "scatter3d": [
           {
            "line": {
             "colorbar": {
              "outlinewidth": 0,
              "ticks": ""
             }
            },
            "marker": {
             "colorbar": {
              "outlinewidth": 0,
              "ticks": ""
             }
            },
            "type": "scatter3d"
           }
          ],
          "scattercarpet": [
           {
            "marker": {
             "colorbar": {
              "outlinewidth": 0,
              "ticks": ""
             }
            },
            "type": "scattercarpet"
           }
          ],
          "scattergeo": [
           {
            "marker": {
             "colorbar": {
              "outlinewidth": 0,
              "ticks": ""
             }
            },
            "type": "scattergeo"
           }
          ],
          "scattergl": [
           {
            "marker": {
             "colorbar": {
              "outlinewidth": 0,
              "ticks": ""
             }
            },
            "type": "scattergl"
           }
          ],
          "scattermapbox": [
           {
            "marker": {
             "colorbar": {
              "outlinewidth": 0,
              "ticks": ""
             }
            },
            "type": "scattermapbox"
           }
          ],
          "scatterpolar": [
           {
            "marker": {
             "colorbar": {
              "outlinewidth": 0,
              "ticks": ""
             }
            },
            "type": "scatterpolar"
           }
          ],
          "scatterpolargl": [
           {
            "marker": {
             "colorbar": {
              "outlinewidth": 0,
              "ticks": ""
             }
            },
            "type": "scatterpolargl"
           }
          ],
          "scatterternary": [
           {
            "marker": {
             "colorbar": {
              "outlinewidth": 0,
              "ticks": ""
             }
            },
            "type": "scatterternary"
           }
          ],
          "surface": [
           {
            "colorbar": {
             "outlinewidth": 0,
             "ticks": ""
            },
            "colorscale": [
             [
              0,
              "#0d0887"
             ],
             [
              0.1111111111111111,
              "#46039f"
             ],
             [
              0.2222222222222222,
              "#7201a8"
             ],
             [
              0.3333333333333333,
              "#9c179e"
             ],
             [
              0.4444444444444444,
              "#bd3786"
             ],
             [
              0.5555555555555556,
              "#d8576b"
             ],
             [
              0.6666666666666666,
              "#ed7953"
             ],
             [
              0.7777777777777778,
              "#fb9f3a"
             ],
             [
              0.8888888888888888,
              "#fdca26"
             ],
             [
              1,
              "#f0f921"
             ]
            ],
            "type": "surface"
           }
          ],
          "table": [
           {
            "cells": {
             "fill": {
              "color": "#EBF0F8"
             },
             "line": {
              "color": "white"
             }
            },
            "header": {
             "fill": {
              "color": "#C8D4E3"
             },
             "line": {
              "color": "white"
             }
            },
            "type": "table"
           }
          ]
         },
         "layout": {
          "annotationdefaults": {
           "arrowcolor": "#2a3f5f",
           "arrowhead": 0,
           "arrowwidth": 1
          },
          "autotypenumbers": "strict",
          "coloraxis": {
           "colorbar": {
            "outlinewidth": 0,
            "ticks": ""
           }
          },
          "colorscale": {
           "diverging": [
            [
             0,
             "#8e0152"
            ],
            [
             0.1,
             "#c51b7d"
            ],
            [
             0.2,
             "#de77ae"
            ],
            [
             0.3,
             "#f1b6da"
            ],
            [
             0.4,
             "#fde0ef"
            ],
            [
             0.5,
             "#f7f7f7"
            ],
            [
             0.6,
             "#e6f5d0"
            ],
            [
             0.7,
             "#b8e186"
            ],
            [
             0.8,
             "#7fbc41"
            ],
            [
             0.9,
             "#4d9221"
            ],
            [
             1,
             "#276419"
            ]
           ],
           "sequential": [
            [
             0,
             "#0d0887"
            ],
            [
             0.1111111111111111,
             "#46039f"
            ],
            [
             0.2222222222222222,
             "#7201a8"
            ],
            [
             0.3333333333333333,
             "#9c179e"
            ],
            [
             0.4444444444444444,
             "#bd3786"
            ],
            [
             0.5555555555555556,
             "#d8576b"
            ],
            [
             0.6666666666666666,
             "#ed7953"
            ],
            [
             0.7777777777777778,
             "#fb9f3a"
            ],
            [
             0.8888888888888888,
             "#fdca26"
            ],
            [
             1,
             "#f0f921"
            ]
           ],
           "sequentialminus": [
            [
             0,
             "#0d0887"
            ],
            [
             0.1111111111111111,
             "#46039f"
            ],
            [
             0.2222222222222222,
             "#7201a8"
            ],
            [
             0.3333333333333333,
             "#9c179e"
            ],
            [
             0.4444444444444444,
             "#bd3786"
            ],
            [
             0.5555555555555556,
             "#d8576b"
            ],
            [
             0.6666666666666666,
             "#ed7953"
            ],
            [
             0.7777777777777778,
             "#fb9f3a"
            ],
            [
             0.8888888888888888,
             "#fdca26"
            ],
            [
             1,
             "#f0f921"
            ]
           ]
          },
          "colorway": [
           "#636efa",
           "#EF553B",
           "#00cc96",
           "#ab63fa",
           "#FFA15A",
           "#19d3f3",
           "#FF6692",
           "#B6E880",
           "#FF97FF",
           "#FECB52"
          ],
          "font": {
           "color": "#2a3f5f"
          },
          "geo": {
           "bgcolor": "white",
           "lakecolor": "white",
           "landcolor": "#E5ECF6",
           "showlakes": true,
           "showland": true,
           "subunitcolor": "white"
          },
          "hoverlabel": {
           "align": "left"
          },
          "hovermode": "closest",
          "mapbox": {
           "style": "light"
          },
          "paper_bgcolor": "white",
          "plot_bgcolor": "#E5ECF6",
          "polar": {
           "angularaxis": {
            "gridcolor": "white",
            "linecolor": "white",
            "ticks": ""
           },
           "bgcolor": "#E5ECF6",
           "radialaxis": {
            "gridcolor": "white",
            "linecolor": "white",
            "ticks": ""
           }
          },
          "scene": {
           "xaxis": {
            "backgroundcolor": "#E5ECF6",
            "gridcolor": "white",
            "gridwidth": 2,
            "linecolor": "white",
            "showbackground": true,
            "ticks": "",
            "zerolinecolor": "white"
           },
           "yaxis": {
            "backgroundcolor": "#E5ECF6",
            "gridcolor": "white",
            "gridwidth": 2,
            "linecolor": "white",
            "showbackground": true,
            "ticks": "",
            "zerolinecolor": "white"
           },
           "zaxis": {
            "backgroundcolor": "#E5ECF6",
            "gridcolor": "white",
            "gridwidth": 2,
            "linecolor": "white",
            "showbackground": true,
            "ticks": "",
            "zerolinecolor": "white"
           }
          },
          "shapedefaults": {
           "line": {
            "color": "#2a3f5f"
           }
          },
          "ternary": {
           "aaxis": {
            "gridcolor": "white",
            "linecolor": "white",
            "ticks": ""
           },
           "baxis": {
            "gridcolor": "white",
            "linecolor": "white",
            "ticks": ""
           },
           "bgcolor": "#E5ECF6",
           "caxis": {
            "gridcolor": "white",
            "linecolor": "white",
            "ticks": ""
           }
          },
          "title": {
           "x": 0.05
          },
          "xaxis": {
           "automargin": true,
           "gridcolor": "white",
           "linecolor": "white",
           "ticks": "",
           "title": {
            "standoff": 15
           },
           "zerolinecolor": "white",
           "zerolinewidth": 2
          },
          "yaxis": {
           "automargin": true,
           "gridcolor": "white",
           "linecolor": "white",
           "ticks": "",
           "title": {
            "standoff": 15
           },
           "zerolinecolor": "white",
           "zerolinewidth": 2
          }
         }
        },
        "title": {
         "text": "<span style='None'>Urban Expansion in Houston, TX</span>",
         "x": 0.5
        }
       },
       "_py2js_addTraces": {},
       "_py2js_animate": {},
       "_py2js_deleteTraces": {},
       "_py2js_moveTraces": {},
       "_py2js_removeLayoutProps": {},
       "_py2js_removeTraceProps": {},
       "_py2js_restyle": {},
       "_view_count": 1
      }
     },
     "73885d8c61ae4fcb99ca7e5c40d3f041": {
      "model_module": "@jupyter-widgets/controls",
      "model_module_version": "1.5.0",
      "model_name": "DescriptionStyleModel",
      "state": {
       "description_width": ""
      }
     },
     "74d57b9ad2cd4a29a25fcfac45836c2a": {
      "model_module": "@jupyter-widgets/controls",
      "model_module_version": "1.5.0",
      "model_name": "ButtonModel",
      "state": {
       "layout": "IPY_MODEL_9e6ee14174a944449b4db66d484502e5",
       "style": "IPY_MODEL_1f3b553af74941319b9755f5aeffe067",
       "tooltip": "Other"
      }
     },
     "753f386067084768805ee56c3f5f7841": {
      "model_module": "@jupyter-widgets/base",
      "model_module_version": "1.2.0",
      "model_name": "LayoutModel",
      "state": {
       "border": "1px dashed #a1a1a1",
       "height": "24px",
       "width": "24px"
      }
     },
     "756828ab42024cbcac83721777403c29": {
      "model_module": "@jupyter-widgets/base",
      "model_module_version": "1.2.0",
      "model_name": "LayoutModel",
      "state": {}
     },
     "769b17bfa31f46e7b42b6742deaf6add": {
      "model_module": "@jupyter-widgets/controls",
      "model_module_version": "1.5.0",
      "model_name": "VBoxModel",
      "state": {
       "children": [
        "IPY_MODEL_104e30f4e27b496b9263dd5e309025ff",
        "IPY_MODEL_3f2fc1e91c2c4dcf8176af36b0f1cfa3"
       ],
       "layout": "IPY_MODEL_c902fb1c03db4d30b8cee622d9640621"
      }
     },
     "76ad8c7c137c4f5fb66d02b768d68473": {
      "model_module": "@jupyter-widgets/base",
      "model_module_version": "1.2.0",
      "model_name": "LayoutModel",
      "state": {
       "height": "24px",
       "padding": "0 0 0 3px",
       "width": "24px"
      }
     },
     "76cd7862535142419c08a0d515d6ecb3": {
      "model_module": "@jupyter-widgets/controls",
      "model_module_version": "1.5.0",
      "model_name": "ButtonStyleModel",
      "state": {
       "button_color": "#c2b34a"
      }
     },
     "789f20e73bca4d46b11a0a4ed00cfaf4": {
      "model_module": "@jupyter-widgets/base",
      "model_module_version": "1.2.0",
      "model_name": "LayoutModel",
      "state": {}
     },
     "7e1fe5ec1b7d42499d76855f1bde4b6c": {
      "model_module": "@jupyter-widgets/controls",
      "model_module_version": "1.5.0",
      "model_name": "ButtonStyleModel",
      "state": {
       "button_color": "#a1a1a1"
      }
     },
     "7e515801f5d34a08bb8f201d43017162": {
      "model_module": "@jupyter-widgets/base",
      "model_module_version": "1.2.0",
      "model_name": "LayoutModel",
      "state": {
       "border": "1px dashed #1b9d0c",
       "height": "24px",
       "width": "24px"
      }
     },
     "7f34edbf6e9246f1bd7d49d72d583b5a": {
      "model_module": "@jupyter-widgets/controls",
      "model_module_version": "1.5.0",
      "model_name": "ButtonModel",
      "state": {
       "layout": "IPY_MODEL_d0b6028d6d9046a79386ef22f5929503",
       "style": "IPY_MODEL_a20e46e1ab754797a8e08272974d7c30",
       "tooltip": "Developed"
      }
     },
     "7f7de863988345fb82a489e96d2b07fb": {
      "model_module": "@jupyter-widgets/base",
      "model_module_version": "1.2.0",
      "model_name": "LayoutModel",
      "state": {}
     },
     "8287c00de63a41ff9e256ee1d9454f04": {
      "model_module": "@jupyter-widgets/controls",
      "model_module_version": "1.5.0",
      "model_name": "HBoxModel",
      "state": {
       "children": [
        "IPY_MODEL_30587a6c3e80422f9f843ff21316c1af",
        "IPY_MODEL_b2bc867c6c7442c8bbce0829b7dab03f",
        "IPY_MODEL_c8f900174bc0442cbac68e15ba0fcf23",
        "IPY_MODEL_5d2d71f0e13e49289e3b8bde667ad994",
        "IPY_MODEL_cffd296cc0374d678a38e1b3c88cba38",
        "IPY_MODEL_31870c07d539425884454a76a5a6385b",
        "IPY_MODEL_59df8ac6aeff4c0ebfea391f5172065f",
        "IPY_MODEL_0be7680f7c4c44eaa44e3eea73556597"
       ],
       "layout": "IPY_MODEL_7f7de863988345fb82a489e96d2b07fb"
      }
     },
     "84328b0b41b046e5abc3e32e40d7ca58": {
      "model_module": "@jupyter-widgets/base",
      "model_module_version": "1.2.0",
      "model_name": "LayoutModel",
      "state": {
       "border": "1px dashed #c2b34a",
       "height": "24px",
       "width": "24px"
      }
     },
     "84957f62571c4182be91b4d7263edb74": {
      "model_module": "@jupyter-widgets/base",
      "model_module_version": "1.2.0",
      "model_name": "LayoutModel",
      "state": {
       "height": "24px",
       "padding": "0 0 0 3px",
       "width": "24px"
      }
     },
     "86b3023775ad4b189d68e3c6e441fc6d": {
      "model_module": "@jupyter-widgets/base",
      "model_module_version": "1.2.0",
      "model_name": "LayoutModel",
      "state": {}
     },
     "8966a5b0a81741fda978e4645447a3a8": {
      "model_module": "@jupyter-widgets/controls",
      "model_module_version": "1.5.0",
      "model_name": "VBoxModel",
      "state": {
       "children": [
        "IPY_MODEL_6560523614fb45faa59d3b27d7c02908"
       ],
       "layout": "IPY_MODEL_b92a24ce5971435c8409e733dc1acec7"
      }
     },
     "8b7b1e3bde5147bab38d7148b6050568": {
      "model_module": "@jupyter-widgets/controls",
      "model_module_version": "1.5.0",
      "model_name": "LabelModel",
      "state": {
       "layout": "IPY_MODEL_639a0483fd6542ffa2e541712e2c5993",
       "style": "IPY_MODEL_73885d8c61ae4fcb99ca7e5c40d3f041",
       "value": "|"
      }
     },
     "8d3d8e28b770459b9d20b78f6abcff94": {
      "model_module": "@jupyter-widgets/base",
      "model_module_version": "1.2.0",
      "model_name": "LayoutModel",
      "state": {
       "height": "24px",
       "padding": "0 0 0 3px",
       "width": "24px"
      }
     },
     "8ddad0c6b948433c873d1724dd005e3a": {
      "model_module": "@jupyter-widgets/base",
      "model_module_version": "1.2.0",
      "model_name": "LayoutModel",
      "state": {
       "height": "24px",
       "padding": "0 0 0 3px",
       "width": "24px"
      }
     },
     "8eaf1ccb01a9467999342f20f3dc49e8": {
      "model_module": "@jupyter-widgets/controls",
      "model_module_version": "1.5.0",
      "model_name": "ButtonModel",
      "state": {
       "layout": "IPY_MODEL_c96fcd1799ba4c8bb3d6e920c24261d9",
       "style": "IPY_MODEL_3659d09a9c8d45879f9a54bfc2ff2e12",
       "tooltip": "Developed"
      }
     },
     "8f240a334f2446cab8805fa255e2a55e": {
      "model_module": "@jupyter-widgets/controls",
      "model_module_version": "1.5.0",
      "model_name": "ButtonModel",
      "state": {
       "layout": "IPY_MODEL_a78e1683db4644e6a9f48abc3bfac0e0",
       "style": "IPY_MODEL_20330c5ac708448cbd6b818c9cf1ecb5",
       "tooltip": "Rangeland or Pasture"
      }
     },
     "8f38f51de29240589bc76ee1392dd716": {
      "model_module": "@jupyter-widgets/base",
      "model_module_version": "1.2.0",
      "model_name": "LayoutModel",
      "state": {
       "border": "1px dashed #ff2ff8",
       "height": "24px",
       "width": "24px"
      }
     },
     "8fcd19f4bde1431f8375d63ac1cd781a": {
      "model_module": "@jupyter-widgets/controls",
      "model_module_version": "1.5.0",
      "model_name": "ButtonStyleModel",
      "state": {}
     },
     "90f370ed059b46e4a31cd3761e0ebea1": {
      "model_module": "@jupyter-widgets/base",
      "model_module_version": "1.2.0",
      "model_name": "LayoutModel",
      "state": {}
     },
     "929f86e00ae84b39a0e4bec71ad84133": {
      "model_module": "@jupyter-widgets/base",
      "model_module_version": "1.2.0",
      "model_name": "LayoutModel",
      "state": {}
     },
     "956023a915674a65aee7790c38dbc8eb": {
      "model_module": "@jupyter-widgets/base",
      "model_module_version": "1.2.0",
      "model_name": "LayoutModel",
      "state": {
       "height": "24px",
       "padding": "0 0 0 3px",
       "width": "24px"
      }
     },
     "95bd8de0292a4811be4434d2d74919f5": {
      "model_module": "@jupyter-widgets/controls",
      "model_module_version": "1.5.0",
      "model_name": "ButtonStyleModel",
      "state": {
       "button_color": "#1b9d0c"
      }
     },
     "97d4686ee6174aa5bf5bd3fd40c2aa12": {
      "model_module": "@jupyter-widgets/controls",
      "model_module_version": "1.5.0",
      "model_name": "ButtonModel",
      "state": {
       "layout": "IPY_MODEL_b2473303cc01478da8023f54eb4b8384",
       "style": "IPY_MODEL_07608ccbff9146ffbbb92fc218a41671",
       "tooltip": "Rangeland or Pasture"
      }
     },
     "987d6ec34d6b4d39afda96f121f8ad14": {
      "model_module": "@jupyter-widgets/base",
      "model_module_version": "1.2.0",
      "model_name": "LayoutModel",
      "state": {
       "height": "24px",
       "padding": "0 0 0 3px",
       "width": "24px"
      }
     },
     "9d64d4fc91b2421689f5160917f519ca": {
      "model_module": "@jupyter-widgets/base",
      "model_module_version": "1.2.0",
      "model_name": "LayoutModel",
      "state": {
       "border": "1px dashed #ff2ff8",
       "height": "24px",
       "width": "24px"
      }
     },
     "9e2b1ccacb634146bcc422ea0ee0606d": {
      "model_module": "@jupyter-widgets/controls",
      "model_module_version": "1.5.0",
      "model_name": "ButtonStyleModel",
      "state": {
       "button_color": "#efff6b"
      }
     },
     "9e6ee14174a944449b4db66d484502e5": {
      "model_module": "@jupyter-widgets/base",
      "model_module_version": "1.2.0",
      "model_name": "LayoutModel",
      "state": {
       "border": "1px dashed #a1a1a1",
       "height": "24px",
       "width": "24px"
      }
     },
     "9fbe38951e8a4a60aa7e025153f3d995": {
      "model_module": "@jupyter-widgets/base",
      "model_module_version": "1.2.0",
      "model_name": "LayoutModel",
      "state": {
       "border": "1px dashed #efff6b",
       "height": "24px",
       "width": "24px"
      }
     },
     "a10ca4a18bca415fbddd2b3f0451068d": {
      "model_module": "@jupyter-widgets/controls",
      "model_module_version": "1.5.0",
      "model_name": "VBoxModel",
      "state": {
       "children": [
        "IPY_MODEL_45fe594592254e8f9e7fa38fc90b010a",
        "IPY_MODEL_4ffd7fd5073c46419252c7eb989a8da4"
       ],
       "layout": "IPY_MODEL_4e6c5528a3844c158e5f7865ec3a5052"
      }
     },
     "a20e46e1ab754797a8e08272974d7c30": {
      "model_module": "@jupyter-widgets/controls",
      "model_module_version": "1.5.0",
      "model_name": "ButtonStyleModel",
      "state": {
       "button_color": "#ff2ff8"
      }
     },
     "a3a8fdc76e604000972b10b70e0cc824": {
      "model_module": "@jupyter-widgets/base",
      "model_module_version": "1.2.0",
      "model_name": "LayoutModel",
      "state": {
       "height": "24px",
       "padding": "0 0 0 3px",
       "width": "24px"
      }
     },
     "a78e1683db4644e6a9f48abc3bfac0e0": {
      "model_module": "@jupyter-widgets/base",
      "model_module_version": "1.2.0",
      "model_name": "LayoutModel",
      "state": {
       "border": "1px dashed #c2b34a",
       "height": "24px",
       "width": "24px"
      }
     },
     "a793b4dac3a0456dbb38d102a82a3799": {
      "model_module": "@jupyter-widgets/controls",
      "model_module_version": "1.5.0",
      "model_name": "ButtonStyleModel",
      "state": {
       "button_color": "#efff6b"
      }
     },
     "a9577b5a4ac14ea3b7bcbdb0d74e7c0f": {
      "model_module": "@jupyter-widgets/controls",
      "model_module_version": "1.5.0",
      "model_name": "VBoxModel",
      "state": {
       "children": [
        "IPY_MODEL_8287c00de63a41ff9e256ee1d9454f04"
       ],
       "layout": "IPY_MODEL_f0cf734c280243d5af4daba86e0eb68d"
      }
     },
     "a95db6bcb6044e0fb0a25dd7946ee41b": {
      "model_module": "@jupyter-widgets/controls",
      "model_module_version": "1.5.0",
      "model_name": "ButtonStyleModel",
      "state": {}
     },
     "ab58e36373f546669bcd10f35078281e": {
      "model_module": "@jupyter-widgets/controls",
      "model_module_version": "1.5.0",
      "model_name": "ButtonStyleModel",
      "state": {
       "button_color": "#efff6b"
      }
     },
     "ad49e0e6c13249ba91979a7318504abb": {
      "model_module": "@jupyter-widgets/controls",
      "model_module_version": "1.5.0",
      "model_name": "ButtonModel",
      "state": {
       "layout": "IPY_MODEL_9d64d4fc91b2421689f5160917f519ca",
       "style": "IPY_MODEL_24be6a97edd146e88522fbce8c9ab96c",
       "tooltip": "Developed"
      }
     },
     "b2473303cc01478da8023f54eb4b8384": {
      "model_module": "@jupyter-widgets/base",
      "model_module_version": "1.2.0",
      "model_name": "LayoutModel",
      "state": {
       "border": "1px dashed #c2b34a",
       "height": "24px",
       "width": "24px"
      }
     },
     "b2bc867c6c7442c8bbce0829b7dab03f": {
      "model_module": "@jupyter-widgets/controls",
      "model_module_version": "1.5.0",
      "model_name": "ButtonModel",
      "state": {
       "layout": "IPY_MODEL_106465c210f94ac19e0ecc7f782d2aaa",
       "style": "IPY_MODEL_1b8c727963ca4f468721a5d7387c2a76",
       "tooltip": "Forest"
      }
     },
     "b369178685704624875542cd5cf807ec": {
      "model_module": "@jupyter-widgets/controls",
      "model_module_version": "1.5.0",
      "model_name": "ButtonStyleModel",
      "state": {
       "button_color": "#1b9d0c"
      }
     },
     "b6f74b8a974f4641865b8690961742a7": {
      "model_module": "@jupyter-widgets/controls",
      "model_module_version": "1.5.0",
      "model_name": "ButtonModel",
      "state": {
       "layout": "IPY_MODEL_bc020a4d7c92472bb486b3658068246d",
       "style": "IPY_MODEL_c4f9d7ef3c104a60864dd5fded95aa61",
       "tooltip": "Developed"
      }
     },
     "b740fbe02cd14f329f42f8dd92995345": {
      "model_module": "@jupyter-widgets/base",
      "model_module_version": "1.2.0",
      "model_name": "LayoutModel",
      "state": {}
     },
     "b7b916cd95fc46aa8cc9ced8217ce6f8": {
      "model_module": "@jupyter-widgets/controls",
      "model_module_version": "1.5.0",
      "model_name": "HBoxModel",
      "state": {
       "children": [
        "IPY_MODEL_ad49e0e6c13249ba91979a7318504abb",
        "IPY_MODEL_ea389f30e8f24db6a2dba60107f87991",
        "IPY_MODEL_289eb75046b04fb6ae3c914c845bcb2b",
        "IPY_MODEL_24bd879c735c4f74a3a10140cfd4553b",
        "IPY_MODEL_1bef67927e10475abe5ed70723a64d4f",
        "IPY_MODEL_e540a0090dab4d17b8d8fb9a4c772bd1",
        "IPY_MODEL_f4c6ea40648e4ce1a4a29338014a84ab",
        "IPY_MODEL_ba67deaf8f3d4f58af34bcd98f2a68d0"
       ],
       "layout": "IPY_MODEL_86b3023775ad4b189d68e3c6e441fc6d"
      }
     },
     "b8b754ea6fd3428d9d0c646096fa9a00": {
      "model_module": "jupyterlab-plotly",
      "model_module_version": "^5.9.0",
      "model_name": "FigureModel",
      "state": {
       "_config": {
        "plotlyServerURL": "https://plot.ly"
       },
       "_data": [
        {
         "arrangement": "snap",
         "link": {
          "color": [
           "#efff6b",
           "#efff6b",
           "#efff6b",
           "#efff6b",
           "#ff2ff8",
           "#ff2ff8",
           "#ff2ff8",
           "#ff2ff8",
           "#ff2ff8",
           "#1b9d0c",
           "#1b9d0c",
           "#1b9d0c",
           "#1b9d0c",
           "#a1a1a1",
           "#c2b34a",
           "#c2b34a",
           "#c2b34a",
           "#c2b34a"
          ],
          "customdata": [
           "<b>43%</b> of <b>Agriculture</b> remained <b>Agriculture</b>",
           "<b>39%</b> of <b>Agriculture</b> became <b>Developed</b>",
           "<b>13%</b> of <b>Agriculture</b> became <b>Forest</b>",
           "<b>4%</b> of <b>Agriculture</b> became <b>Rangeland or Pasture</b>",
           "<b>3%</b> of <b>Developed</b> became <b>Agriculture</b>",
           "<b>78%</b> of <b>Developed</b> remained <b>Developed</b>",
           "<b>9%</b> of <b>Developed</b> became <b>Forest</b>",
           "<b>3%</b> of <b>Developed</b> became <b>Other</b>",
           "<b>6%</b> of <b>Developed</b> became <b>Rangeland or Pasture</b>",
           "<b>3%</b> of <b>Forest</b> became <b>Agriculture</b>",
           "<b>41%</b> of <b>Forest</b> became <b>Developed</b>",
           "<b>41%</b> of <b>Forest</b> remained <b>Forest</b>",
           "<b>14%</b> of <b>Forest</b> became <b>Rangeland or Pasture</b>",
           "<b>100%</b> of <b>Other</b> became <b>Developed</b>",
           "<b>20%</b> of <b>Rangeland or Pasture</b> became <b>Agriculture</b>",
           "<b>20%</b> of <b>Rangeland or Pasture</b> became <b>Developed</b>",
           "<b>13%</b> of <b>Rangeland or Pasture</b> became <b>Forest</b>",
           "<b>47%</b> of <b>Rangeland or Pasture</b> remained <b>Rangeland or Pasture</b>"
          ],
          "hovertemplate": "%{customdata} <extra></extra>",
          "line": {
           "color": "#909090",
           "width": 1
          },
          "source": [
           0,
           0,
           0,
           0,
           1,
           1,
           1,
           1,
           1,
           2,
           2,
           2,
           2,
           3,
           4,
           4,
           4,
           4
          ],
          "target": [
           5,
           6,
           7,
           8,
           5,
           6,
           7,
           9,
           8,
           5,
           6,
           7,
           8,
           6,
           5,
           6,
           7,
           8
          ],
          "value": [
           10,
           9,
           3,
           1,
           1,
           25,
           3,
           1,
           2,
           1,
           12,
           12,
           4,
           1,
           3,
           3,
           2,
           7
          ]
         },
         "node": {
          "color": [
           "#efff6b",
           "#ff2ff8",
           "#1b9d0c",
           "#a1a1a1",
           "#c2b34a",
           "#efff6b",
           "#ff2ff8",
           "#1b9d0c",
           "#c2b34a",
           "#a1a1a1"
          ],
          "customdata": [
           "1986",
           "1986",
           "1986",
           "1986",
           "1986",
           "2020",
           "2020",
           "2020",
           "2020",
           "2020"
          ],
          "hovertemplate": "<b>%{customdata}</b><extra></extra>",
          "label": [
           "<span style='\n        color: #fff;\n        font-weight: 600;\n        letter-spacing: -1px;\n        text-shadow:\n            0 0 4px black,\n            -1px 1px 0 #76777a,\n            1px 1px 0 #76777a,\n            1px -1px 0 #76777a,\n            -1px -1px 0 #76777a;\n    '>Agriculture</span>",
           "<span style='\n        color: #fff;\n        font-weight: 600;\n        letter-spacing: -1px;\n        text-shadow:\n            0 0 4px black,\n            -1px 1px 0 #76777a,\n            1px 1px 0 #76777a,\n            1px -1px 0 #76777a,\n            -1px -1px 0 #76777a;\n    '>Developed</span>",
           "<span style='\n        color: #fff;\n        font-weight: 600;\n        letter-spacing: -1px;\n        text-shadow:\n            0 0 4px black,\n            -1px 1px 0 #76777a,\n            1px 1px 0 #76777a,\n            1px -1px 0 #76777a,\n            -1px -1px 0 #76777a;\n    '>Forest</span>",
           "<span style='\n        color: #fff;\n        font-weight: 600;\n        letter-spacing: -1px;\n        text-shadow:\n            0 0 4px black,\n            -1px 1px 0 #76777a,\n            1px 1px 0 #76777a,\n            1px -1px 0 #76777a,\n            -1px -1px 0 #76777a;\n    '>Other</span>",
           "<span style='\n        color: #fff;\n        font-weight: 600;\n        letter-spacing: -1px;\n        text-shadow:\n            0 0 4px black,\n            -1px 1px 0 #76777a,\n            1px 1px 0 #76777a,\n            1px -1px 0 #76777a,\n            -1px -1px 0 #76777a;\n    '>Rangeland or Pasture</span>",
           "<span style='\n        color: #fff;\n        font-weight: 600;\n        letter-spacing: -1px;\n        text-shadow:\n            0 0 4px black,\n            -1px 1px 0 #76777a,\n            1px 1px 0 #76777a,\n            1px -1px 0 #76777a,\n            -1px -1px 0 #76777a;\n    '>Agriculture</span>",
           "<span style='\n        color: #fff;\n        font-weight: 600;\n        letter-spacing: -1px;\n        text-shadow:\n            0 0 4px black,\n            -1px 1px 0 #76777a,\n            1px 1px 0 #76777a,\n            1px -1px 0 #76777a,\n            -1px -1px 0 #76777a;\n    '>Developed</span>",
           "<span style='\n        color: #fff;\n        font-weight: 600;\n        letter-spacing: -1px;\n        text-shadow:\n            0 0 4px black,\n            -1px 1px 0 #76777a,\n            1px 1px 0 #76777a,\n            1px -1px 0 #76777a,\n            -1px -1px 0 #76777a;\n    '>Forest</span>",
           "<span style='\n        color: #fff;\n        font-weight: 600;\n        letter-spacing: -1px;\n        text-shadow:\n            0 0 4px black,\n            -1px 1px 0 #76777a,\n            1px 1px 0 #76777a,\n            1px -1px 0 #76777a,\n            -1px -1px 0 #76777a;\n    '>Rangeland or Pasture</span>",
           "<span style='\n        color: #fff;\n        font-weight: 600;\n        letter-spacing: -1px;\n        text-shadow:\n            0 0 4px black,\n            -1px 1px 0 #76777a,\n            1px 1px 0 #76777a,\n            1px -1px 0 #76777a,\n            -1px -1px 0 #76777a;\n    '>Other</span>"
          ],
          "line": {
           "color": "#505050",
           "width": 1.5
          },
          "pad": 30,
          "thickness": 10
         },
         "type": "sankey",
         "uid": "bc4bd604-0790-493d-b632-4590a92c8bb7"
        }
       ],
       "_js2py_restyle": {},
       "_js2py_update": {},
       "_last_layout_edit_id": 2,
       "_last_trace_edit_id": 1,
       "_layout": {
        "autosize": true,
        "font": {
         "size": 16
        },
        "paper_bgcolor": "rgba(0, 0, 0, 0)",
        "template": {
         "data": {
          "bar": [
           {
            "error_x": {
             "color": "#2a3f5f"
            },
            "error_y": {
             "color": "#2a3f5f"
            },
            "marker": {
             "line": {
              "color": "#E5ECF6",
              "width": 0.5
             },
             "pattern": {
              "fillmode": "overlay",
              "size": 10,
              "solidity": 0.2
             }
            },
            "type": "bar"
           }
          ],
          "barpolar": [
           {
            "marker": {
             "line": {
              "color": "#E5ECF6",
              "width": 0.5
             },
             "pattern": {
              "fillmode": "overlay",
              "size": 10,
              "solidity": 0.2
             }
            },
            "type": "barpolar"
           }
          ],
          "carpet": [
           {
            "aaxis": {
             "endlinecolor": "#2a3f5f",
             "gridcolor": "white",
             "linecolor": "white",
             "minorgridcolor": "white",
             "startlinecolor": "#2a3f5f"
            },
            "baxis": {
             "endlinecolor": "#2a3f5f",
             "gridcolor": "white",
             "linecolor": "white",
             "minorgridcolor": "white",
             "startlinecolor": "#2a3f5f"
            },
            "type": "carpet"
           }
          ],
          "choropleth": [
           {
            "colorbar": {
             "outlinewidth": 0,
             "ticks": ""
            },
            "type": "choropleth"
           }
          ],
          "contour": [
           {
            "colorbar": {
             "outlinewidth": 0,
             "ticks": ""
            },
            "colorscale": [
             [
              0,
              "#0d0887"
             ],
             [
              0.1111111111111111,
              "#46039f"
             ],
             [
              0.2222222222222222,
              "#7201a8"
             ],
             [
              0.3333333333333333,
              "#9c179e"
             ],
             [
              0.4444444444444444,
              "#bd3786"
             ],
             [
              0.5555555555555556,
              "#d8576b"
             ],
             [
              0.6666666666666666,
              "#ed7953"
             ],
             [
              0.7777777777777778,
              "#fb9f3a"
             ],
             [
              0.8888888888888888,
              "#fdca26"
             ],
             [
              1,
              "#f0f921"
             ]
            ],
            "type": "contour"
           }
          ],
          "contourcarpet": [
           {
            "colorbar": {
             "outlinewidth": 0,
             "ticks": ""
            },
            "type": "contourcarpet"
           }
          ],
          "heatmap": [
           {
            "colorbar": {
             "outlinewidth": 0,
             "ticks": ""
            },
            "colorscale": [
             [
              0,
              "#0d0887"
             ],
             [
              0.1111111111111111,
              "#46039f"
             ],
             [
              0.2222222222222222,
              "#7201a8"
             ],
             [
              0.3333333333333333,
              "#9c179e"
             ],
             [
              0.4444444444444444,
              "#bd3786"
             ],
             [
              0.5555555555555556,
              "#d8576b"
             ],
             [
              0.6666666666666666,
              "#ed7953"
             ],
             [
              0.7777777777777778,
              "#fb9f3a"
             ],
             [
              0.8888888888888888,
              "#fdca26"
             ],
             [
              1,
              "#f0f921"
             ]
            ],
            "type": "heatmap"
           }
          ],
          "heatmapgl": [
           {
            "colorbar": {
             "outlinewidth": 0,
             "ticks": ""
            },
            "colorscale": [
             [
              0,
              "#0d0887"
             ],
             [
              0.1111111111111111,
              "#46039f"
             ],
             [
              0.2222222222222222,
              "#7201a8"
             ],
             [
              0.3333333333333333,
              "#9c179e"
             ],
             [
              0.4444444444444444,
              "#bd3786"
             ],
             [
              0.5555555555555556,
              "#d8576b"
             ],
             [
              0.6666666666666666,
              "#ed7953"
             ],
             [
              0.7777777777777778,
              "#fb9f3a"
             ],
             [
              0.8888888888888888,
              "#fdca26"
             ],
             [
              1,
              "#f0f921"
             ]
            ],
            "type": "heatmapgl"
           }
          ],
          "histogram": [
           {
            "marker": {
             "pattern": {
              "fillmode": "overlay",
              "size": 10,
              "solidity": 0.2
             }
            },
            "type": "histogram"
           }
          ],
          "histogram2d": [
           {
            "colorbar": {
             "outlinewidth": 0,
             "ticks": ""
            },
            "colorscale": [
             [
              0,
              "#0d0887"
             ],
             [
              0.1111111111111111,
              "#46039f"
             ],
             [
              0.2222222222222222,
              "#7201a8"
             ],
             [
              0.3333333333333333,
              "#9c179e"
             ],
             [
              0.4444444444444444,
              "#bd3786"
             ],
             [
              0.5555555555555556,
              "#d8576b"
             ],
             [
              0.6666666666666666,
              "#ed7953"
             ],
             [
              0.7777777777777778,
              "#fb9f3a"
             ],
             [
              0.8888888888888888,
              "#fdca26"
             ],
             [
              1,
              "#f0f921"
             ]
            ],
            "type": "histogram2d"
           }
          ],
          "histogram2dcontour": [
           {
            "colorbar": {
             "outlinewidth": 0,
             "ticks": ""
            },
            "colorscale": [
             [
              0,
              "#0d0887"
             ],
             [
              0.1111111111111111,
              "#46039f"
             ],
             [
              0.2222222222222222,
              "#7201a8"
             ],
             [
              0.3333333333333333,
              "#9c179e"
             ],
             [
              0.4444444444444444,
              "#bd3786"
             ],
             [
              0.5555555555555556,
              "#d8576b"
             ],
             [
              0.6666666666666666,
              "#ed7953"
             ],
             [
              0.7777777777777778,
              "#fb9f3a"
             ],
             [
              0.8888888888888888,
              "#fdca26"
             ],
             [
              1,
              "#f0f921"
             ]
            ],
            "type": "histogram2dcontour"
           }
          ],
          "mesh3d": [
           {
            "colorbar": {
             "outlinewidth": 0,
             "ticks": ""
            },
            "type": "mesh3d"
           }
          ],
          "parcoords": [
           {
            "line": {
             "colorbar": {
              "outlinewidth": 0,
              "ticks": ""
             }
            },
            "type": "parcoords"
           }
          ],
          "pie": [
           {
            "automargin": true,
            "type": "pie"
           }
          ],
          "scatter": [
           {
            "fillpattern": {
             "fillmode": "overlay",
             "size": 10,
             "solidity": 0.2
            },
            "type": "scatter"
           }
          ],
          "scatter3d": [
           {
            "line": {
             "colorbar": {
              "outlinewidth": 0,
              "ticks": ""
             }
            },
            "marker": {
             "colorbar": {
              "outlinewidth": 0,
              "ticks": ""
             }
            },
            "type": "scatter3d"
           }
          ],
          "scattercarpet": [
           {
            "marker": {
             "colorbar": {
              "outlinewidth": 0,
              "ticks": ""
             }
            },
            "type": "scattercarpet"
           }
          ],
          "scattergeo": [
           {
            "marker": {
             "colorbar": {
              "outlinewidth": 0,
              "ticks": ""
             }
            },
            "type": "scattergeo"
           }
          ],
          "scattergl": [
           {
            "marker": {
             "colorbar": {
              "outlinewidth": 0,
              "ticks": ""
             }
            },
            "type": "scattergl"
           }
          ],
          "scattermapbox": [
           {
            "marker": {
             "colorbar": {
              "outlinewidth": 0,
              "ticks": ""
             }
            },
            "type": "scattermapbox"
           }
          ],
          "scatterpolar": [
           {
            "marker": {
             "colorbar": {
              "outlinewidth": 0,
              "ticks": ""
             }
            },
            "type": "scatterpolar"
           }
          ],
          "scatterpolargl": [
           {
            "marker": {
             "colorbar": {
              "outlinewidth": 0,
              "ticks": ""
             }
            },
            "type": "scatterpolargl"
           }
          ],
          "scatterternary": [
           {
            "marker": {
             "colorbar": {
              "outlinewidth": 0,
              "ticks": ""
             }
            },
            "type": "scatterternary"
           }
          ],
          "surface": [
           {
            "colorbar": {
             "outlinewidth": 0,
             "ticks": ""
            },
            "colorscale": [
             [
              0,
              "#0d0887"
             ],
             [
              0.1111111111111111,
              "#46039f"
             ],
             [
              0.2222222222222222,
              "#7201a8"
             ],
             [
              0.3333333333333333,
              "#9c179e"
             ],
             [
              0.4444444444444444,
              "#bd3786"
             ],
             [
              0.5555555555555556,
              "#d8576b"
             ],
             [
              0.6666666666666666,
              "#ed7953"
             ],
             [
              0.7777777777777778,
              "#fb9f3a"
             ],
             [
              0.8888888888888888,
              "#fdca26"
             ],
             [
              1,
              "#f0f921"
             ]
            ],
            "type": "surface"
           }
          ],
          "table": [
           {
            "cells": {
             "fill": {
              "color": "#EBF0F8"
             },
             "line": {
              "color": "white"
             }
            },
            "header": {
             "fill": {
              "color": "#C8D4E3"
             },
             "line": {
              "color": "white"
             }
            },
            "type": "table"
           }
          ]
         },
         "layout": {
          "annotationdefaults": {
           "arrowcolor": "#2a3f5f",
           "arrowhead": 0,
           "arrowwidth": 1
          },
          "autotypenumbers": "strict",
          "coloraxis": {
           "colorbar": {
            "outlinewidth": 0,
            "ticks": ""
           }
          },
          "colorscale": {
           "diverging": [
            [
             0,
             "#8e0152"
            ],
            [
             0.1,
             "#c51b7d"
            ],
            [
             0.2,
             "#de77ae"
            ],
            [
             0.3,
             "#f1b6da"
            ],
            [
             0.4,
             "#fde0ef"
            ],
            [
             0.5,
             "#f7f7f7"
            ],
            [
             0.6,
             "#e6f5d0"
            ],
            [
             0.7,
             "#b8e186"
            ],
            [
             0.8,
             "#7fbc41"
            ],
            [
             0.9,
             "#4d9221"
            ],
            [
             1,
             "#276419"
            ]
           ],
           "sequential": [
            [
             0,
             "#0d0887"
            ],
            [
             0.1111111111111111,
             "#46039f"
            ],
            [
             0.2222222222222222,
             "#7201a8"
            ],
            [
             0.3333333333333333,
             "#9c179e"
            ],
            [
             0.4444444444444444,
             "#bd3786"
            ],
            [
             0.5555555555555556,
             "#d8576b"
            ],
            [
             0.6666666666666666,
             "#ed7953"
            ],
            [
             0.7777777777777778,
             "#fb9f3a"
            ],
            [
             0.8888888888888888,
             "#fdca26"
            ],
            [
             1,
             "#f0f921"
            ]
           ],
           "sequentialminus": [
            [
             0,
             "#0d0887"
            ],
            [
             0.1111111111111111,
             "#46039f"
            ],
            [
             0.2222222222222222,
             "#7201a8"
            ],
            [
             0.3333333333333333,
             "#9c179e"
            ],
            [
             0.4444444444444444,
             "#bd3786"
            ],
            [
             0.5555555555555556,
             "#d8576b"
            ],
            [
             0.6666666666666666,
             "#ed7953"
            ],
            [
             0.7777777777777778,
             "#fb9f3a"
            ],
            [
             0.8888888888888888,
             "#fdca26"
            ],
            [
             1,
             "#f0f921"
            ]
           ]
          },
          "colorway": [
           "#636efa",
           "#EF553B",
           "#00cc96",
           "#ab63fa",
           "#FFA15A",
           "#19d3f3",
           "#FF6692",
           "#B6E880",
           "#FF97FF",
           "#FECB52"
          ],
          "font": {
           "color": "#2a3f5f"
          },
          "geo": {
           "bgcolor": "white",
           "lakecolor": "white",
           "landcolor": "#E5ECF6",
           "showlakes": true,
           "showland": true,
           "subunitcolor": "white"
          },
          "hoverlabel": {
           "align": "left"
          },
          "hovermode": "closest",
          "mapbox": {
           "style": "light"
          },
          "paper_bgcolor": "white",
          "plot_bgcolor": "#E5ECF6",
          "polar": {
           "angularaxis": {
            "gridcolor": "white",
            "linecolor": "white",
            "ticks": ""
           },
           "bgcolor": "#E5ECF6",
           "radialaxis": {
            "gridcolor": "white",
            "linecolor": "white",
            "ticks": ""
           }
          },
          "scene": {
           "xaxis": {
            "backgroundcolor": "#E5ECF6",
            "gridcolor": "white",
            "gridwidth": 2,
            "linecolor": "white",
            "showbackground": true,
            "ticks": "",
            "zerolinecolor": "white"
           },
           "yaxis": {
            "backgroundcolor": "#E5ECF6",
            "gridcolor": "white",
            "gridwidth": 2,
            "linecolor": "white",
            "showbackground": true,
            "ticks": "",
            "zerolinecolor": "white"
           },
           "zaxis": {
            "backgroundcolor": "#E5ECF6",
            "gridcolor": "white",
            "gridwidth": 2,
            "linecolor": "white",
            "showbackground": true,
            "ticks": "",
            "zerolinecolor": "white"
           }
          },
          "shapedefaults": {
           "line": {
            "color": "#2a3f5f"
           }
          },
          "ternary": {
           "aaxis": {
            "gridcolor": "white",
            "linecolor": "white",
            "ticks": ""
           },
           "baxis": {
            "gridcolor": "white",
            "linecolor": "white",
            "ticks": ""
           },
           "bgcolor": "#E5ECF6",
           "caxis": {
            "gridcolor": "white",
            "linecolor": "white",
            "ticks": ""
           }
          },
          "title": {
           "x": 0.05
          },
          "xaxis": {
           "automargin": true,
           "gridcolor": "white",
           "linecolor": "white",
           "ticks": "",
           "title": {
            "standoff": 15
           },
           "zerolinecolor": "white",
           "zerolinewidth": 2
          },
          "yaxis": {
           "automargin": true,
           "gridcolor": "white",
           "linecolor": "white",
           "ticks": "",
           "title": {
            "standoff": 15
           },
           "zerolinecolor": "white",
           "zerolinewidth": 2
          }
         }
        },
        "title": {
         "text": "<span style='\n        color: #fff;\n        font-weight: 900;\n        word-spacing: 10px;\n        letter-spacing: 3px;\n        text-shadow:\n            0 0 1px black,\n            0 0 2px black,\n            0 0 4px black;\n    '>Urban Expansion in Houston, TX</span>",
         "x": 0.5
        }
       },
       "_py2js_addTraces": {},
       "_py2js_animate": {},
       "_py2js_deleteTraces": {},
       "_py2js_moveTraces": {},
       "_py2js_removeLayoutProps": {},
       "_py2js_removeTraceProps": {},
       "_py2js_restyle": {},
       "_view_count": 1
      }
     },
     "b92a24ce5971435c8409e733dc1acec7": {
      "model_module": "@jupyter-widgets/base",
      "model_module_version": "1.2.0",
      "model_name": "LayoutModel",
      "state": {
       "align_items": "center"
      }
     },
     "ba0232c0705948ce84f5ab2db18485ae": {
      "model_module": "@jupyter-widgets/controls",
      "model_module_version": "1.5.0",
      "model_name": "DescriptionStyleModel",
      "state": {
       "description_width": ""
      }
     },
     "ba67deaf8f3d4f58af34bcd98f2a68d0": {
      "model_module": "@jupyter-widgets/controls",
      "model_module_version": "1.5.0",
      "model_name": "ButtonModel",
      "state": {
       "icon": "external-link",
       "layout": "IPY_MODEL_8d3d8e28b770459b9d20b78f6abcff94",
       "style": "IPY_MODEL_225e35f7c86e4c1cb27510b078488acf",
       "tooltip": "Open in new tab"
      }
     },
     "bc020a4d7c92472bb486b3658068246d": {
      "model_module": "@jupyter-widgets/base",
      "model_module_version": "1.2.0",
      "model_name": "LayoutModel",
      "state": {
       "border": "1px dashed #ff2ff8",
       "height": "24px",
       "width": "24px"
      }
     },
     "bc25acfe1afd4d9fa7e6102e5d5b1469": {
      "model_module": "@jupyter-widgets/base",
      "model_module_version": "1.2.0",
      "model_name": "LayoutModel",
      "state": {
       "align_items": "center"
      }
     },
     "be31c10b2d4b43c08c2516242dc556d8": {
      "model_module": "@jupyter-widgets/controls",
      "model_module_version": "1.5.0",
      "model_name": "ButtonModel",
      "state": {
       "icon": "refresh",
       "layout": "IPY_MODEL_987d6ec34d6b4d39afda96f121f8ad14",
       "style": "IPY_MODEL_6444b12c30f548d29a1f2f925dce5090",
       "tooltip": "Reset plot"
      }
     },
     "c4f9d7ef3c104a60864dd5fded95aa61": {
      "model_module": "@jupyter-widgets/controls",
      "model_module_version": "1.5.0",
      "model_name": "ButtonStyleModel",
      "state": {
       "button_color": "#ff2ff8"
      }
     },
     "c5812988a996466fae97ed05037e0d89": {
      "model_module": "@jupyter-widgets/controls",
      "model_module_version": "1.5.0",
      "model_name": "ButtonStyleModel",
      "state": {}
     },
     "c84b0343ff374a07b80dcebc863a6491": {
      "model_module": "@jupyter-widgets/base",
      "model_module_version": "1.2.0",
      "model_name": "LayoutModel",
      "state": {
       "height": "24px",
       "padding": "0 0 0 3px",
       "width": "24px"
      }
     },
     "c8f900174bc0442cbac68e15ba0fcf23": {
      "model_module": "@jupyter-widgets/controls",
      "model_module_version": "1.5.0",
      "model_name": "ButtonModel",
      "state": {
       "layout": "IPY_MODEL_0264bdfc5da4403ba83cc71f14e6d9d5",
       "style": "IPY_MODEL_3b6804c66c1441bfb377bf80f6434f15",
       "tooltip": "Agriculture"
      }
     },
     "c902fb1c03db4d30b8cee622d9640621": {
      "model_module": "@jupyter-widgets/base",
      "model_module_version": "1.2.0",
      "model_name": "LayoutModel",
      "state": {}
     },
     "c96fcd1799ba4c8bb3d6e920c24261d9": {
      "model_module": "@jupyter-widgets/base",
      "model_module_version": "1.2.0",
      "model_name": "LayoutModel",
      "state": {
       "border": "1px dashed #ff2ff8",
       "height": "24px",
       "width": "24px"
      }
     },
     "c9efcd5898194c6b934ea7ff6906eb3b": {
      "model_module": "@jupyter-widgets/base",
      "model_module_version": "1.2.0",
      "model_name": "LayoutModel",
      "state": {
       "border": "1px dashed #efff6b",
       "height": "24px",
       "width": "24px"
      }
     },
     "caa442cff76d49939862d500d85a0af3": {
      "model_module": "@jupyter-widgets/controls",
      "model_module_version": "1.5.0",
      "model_name": "HBoxModel",
      "state": {
       "children": [
        "IPY_MODEL_8eaf1ccb01a9467999342f20f3dc49e8",
        "IPY_MODEL_605ff92301d34debbc658cd6c9ca97f6",
        "IPY_MODEL_3fece873467f4670b03fc0801dcd0801",
        "IPY_MODEL_8f240a334f2446cab8805fa255e2a55e",
        "IPY_MODEL_21ad6e4c49ae43f2a5c121f4b7937cfb",
        "IPY_MODEL_8b7b1e3bde5147bab38d7148b6050568",
        "IPY_MODEL_5aafdc5f1ec349aaa327d1b07f1964bf",
        "IPY_MODEL_20017c5e720e40ceab4fe4a04c8a1a9c"
       ],
       "layout": "IPY_MODEL_b740fbe02cd14f329f42f8dd92995345"
      }
     },
     "cace6d966c724c5cadf6418aad1ba651": {
      "model_module": "@jupyter-widgets/base",
      "model_module_version": "1.2.0",
      "model_name": "LayoutModel",
      "state": {
       "height": "24px",
       "padding": "0 0 0 3px",
       "width": "24px"
      }
     },
     "cd00713a20f6422b9fcd9e7f8541034e": {
      "model_module": "@jupyter-widgets/base",
      "model_module_version": "1.2.0",
      "model_name": "LayoutModel",
      "state": {}
     },
     "ce47c9ec26e44c9297ea48bb212a4b50": {
      "model_module": "@jupyter-widgets/base",
      "model_module_version": "1.2.0",
      "model_name": "LayoutModel",
      "state": {}
     },
     "cffd296cc0374d678a38e1b3c88cba38": {
      "model_module": "@jupyter-widgets/controls",
      "model_module_version": "1.5.0",
      "model_name": "ButtonModel",
      "state": {
       "layout": "IPY_MODEL_e81b96b71de846bc80ebfe0b7b961967",
       "style": "IPY_MODEL_23857942e51a42ffba35449ea2659d40",
       "tooltip": "Other"
      }
     },
     "d0994cf3e9e64dfd8e5b46bb96e85453": {
      "model_module": "@jupyter-widgets/controls",
      "model_module_version": "1.5.0",
      "model_name": "VBoxModel",
      "state": {
       "children": [
        "IPY_MODEL_b8b754ea6fd3428d9d0c646096fa9a00",
        "IPY_MODEL_8966a5b0a81741fda978e4645447a3a8"
       ],
       "layout": "IPY_MODEL_69408a516b2643fcb8799bab288f28b5"
      }
     },
     "d0b6028d6d9046a79386ef22f5929503": {
      "model_module": "@jupyter-widgets/base",
      "model_module_version": "1.2.0",
      "model_name": "LayoutModel",
      "state": {
       "border": "1px dashed #ff2ff8",
       "height": "24px",
       "width": "24px"
      }
     },
     "d2f7e453f71942ea898df1be2c86b790": {
      "model_module": "@jupyter-widgets/base",
      "model_module_version": "1.2.0",
      "model_name": "LayoutModel",
      "state": {
       "border": "1px dashed #c2b34a",
       "height": "24px",
       "width": "24px"
      }
     },
     "d84843d557a146a4ad776a9955ff31ea": {
      "model_module": "@jupyter-widgets/controls",
      "model_module_version": "1.5.0",
      "model_name": "ButtonModel",
      "state": {
       "layout": "IPY_MODEL_2f121e1cbc424354b3d9947c36760771",
       "style": "IPY_MODEL_95bd8de0292a4811be4434d2d74919f5",
       "tooltip": "Forest"
      }
     },
     "d8eea6dd547447fa9ad99a7bff253abf": {
      "model_module": "@jupyter-widgets/controls",
      "model_module_version": "1.5.0",
      "model_name": "DescriptionStyleModel",
      "state": {
       "description_width": ""
      }
     },
     "da0cdcb11ab2455596e46e4f3ab3bfab": {
      "model_module": "@jupyter-widgets/controls",
      "model_module_version": "1.5.0",
      "model_name": "ButtonModel",
      "state": {
       "icon": "refresh",
       "layout": "IPY_MODEL_956023a915674a65aee7790c38dbc8eb",
       "style": "IPY_MODEL_092aa1fab27941f4bee1c7b79b39cae0",
       "tooltip": "Reset plot"
      }
     },
     "db407ec24b1e4bba967f2ad856e7f24f": {
      "model_module": "@jupyter-widgets/controls",
      "model_module_version": "1.5.0",
      "model_name": "ButtonStyleModel",
      "state": {
       "button_color": "#a1a1a1"
      }
     },
     "db40905ab4c8496793185894be44737c": {
      "model_module": "@jupyter-widgets/controls",
      "model_module_version": "1.5.0",
      "model_name": "ButtonStyleModel",
      "state": {
       "button_color": "#c2b34a"
      }
     },
     "dbd7f9db27024287b672842a2ccfe724": {
      "model_module": "@jupyter-widgets/base",
      "model_module_version": "1.2.0",
      "model_name": "LayoutModel",
      "state": {}
     },
     "df7523a6ed674f3684b43cc481992bc1": {
      "model_module": "@jupyter-widgets/controls",
      "model_module_version": "1.5.0",
      "model_name": "VBoxModel",
      "state": {
       "children": [
        "IPY_MODEL_7260821641ea41aca67cd7059577b244",
        "IPY_MODEL_34f8d18cec354a6a8cfa30da0077042c"
       ],
       "layout": "IPY_MODEL_58810f38738d4bb88d3c74316c5ee9b9"
      }
     },
     "e540a0090dab4d17b8d8fb9a4c772bd1": {
      "model_module": "@jupyter-widgets/controls",
      "model_module_version": "1.5.0",
      "model_name": "LabelModel",
      "state": {
       "layout": "IPY_MODEL_2063cfead8ca4c32848bf7340fe1db11",
       "style": "IPY_MODEL_3bc319e4b50a4e84b1db74c3b516bac2",
       "value": "|"
      }
     },
     "e81b96b71de846bc80ebfe0b7b961967": {
      "model_module": "@jupyter-widgets/base",
      "model_module_version": "1.2.0",
      "model_name": "LayoutModel",
      "state": {
       "border": "1px dashed #a1a1a1",
       "height": "24px",
       "width": "24px"
      }
     },
     "e8557c293fcf4401924c0ba3e040cbdc": {
      "model_module": "@jupyter-widgets/base",
      "model_module_version": "1.2.0",
      "model_name": "LayoutModel",
      "state": {}
     },
     "e8f83abf911842bd84e3fdd9701b4cef": {
      "model_module": "@jupyter-widgets/controls",
      "model_module_version": "1.5.0",
      "model_name": "ButtonStyleModel",
      "state": {}
     },
     "ea389f30e8f24db6a2dba60107f87991": {
      "model_module": "@jupyter-widgets/controls",
      "model_module_version": "1.5.0",
      "model_name": "ButtonModel",
      "state": {
       "layout": "IPY_MODEL_7e515801f5d34a08bb8f201d43017162",
       "style": "IPY_MODEL_b369178685704624875542cd5cf807ec",
       "tooltip": "Forest"
      }
     },
     "eaac218991024881a1fbe842b1c17457": {
      "model_module": "@jupyter-widgets/base",
      "model_module_version": "1.2.0",
      "model_name": "LayoutModel",
      "state": {
       "border": "1px dashed #efff6b",
       "height": "24px",
       "width": "24px"
      }
     },
     "ec5a217092cb4fd98735962c350a8a30": {
      "model_module": "@jupyter-widgets/controls",
      "model_module_version": "1.5.0",
      "model_name": "ButtonStyleModel",
      "state": {
       "button_color": "#1b9d0c"
      }
     },
     "f004f9546da44dee992187f8ef88cb5f": {
      "model_module": "@jupyter-widgets/controls",
      "model_module_version": "1.5.0",
      "model_name": "HBoxModel",
      "state": {
       "children": [
        "IPY_MODEL_b6f74b8a974f4641865b8690961742a7",
        "IPY_MODEL_30f6db4837a2415bab9928195078b180",
        "IPY_MODEL_60de40fee0994484b1be623813d076e2",
        "IPY_MODEL_97d4686ee6174aa5bf5bd3fd40c2aa12",
        "IPY_MODEL_190b82dd7d204444a2e0cc201de7630c",
        "IPY_MODEL_069832582e9c4b489afbd3075e991a54",
        "IPY_MODEL_be31c10b2d4b43c08c2516242dc556d8",
        "IPY_MODEL_434867a694bb4247a213a7e18a0060ca"
       ],
       "layout": "IPY_MODEL_cd00713a20f6422b9fcd9e7f8541034e"
      }
     },
     "f0cf734c280243d5af4daba86e0eb68d": {
      "model_module": "@jupyter-widgets/base",
      "model_module_version": "1.2.0",
      "model_name": "LayoutModel",
      "state": {
       "align_items": "center"
      }
     },
     "f4c6ea40648e4ce1a4a29338014a84ab": {
      "model_module": "@jupyter-widgets/controls",
      "model_module_version": "1.5.0",
      "model_name": "ButtonModel",
      "state": {
       "icon": "refresh",
       "layout": "IPY_MODEL_533f8815599c464b83f68b0770ab31f4",
       "style": "IPY_MODEL_c5812988a996466fae97ed05037e0d89",
       "tooltip": "Reset plot"
      }
     },
     "fb7a75dfd66444adac06608104409ebb": {
      "model_module": "@jupyter-widgets/controls",
      "model_module_version": "1.5.0",
      "model_name": "DescriptionStyleModel",
      "state": {
       "description_width": ""
      }
     }
    },
    "version_major": 2,
    "version_minor": 0
   }
  }
 },
 "nbformat": 4,
 "nbformat_minor": 2
}
